{
 "cells": [
  {
   "cell_type": "markdown",
   "id": "2e30d709-2234-4e1a-afd1-846239464a37",
   "metadata": {},
   "source": [
    "This notebook contains code to download the CLIP-ViT-B-32 model from Hugging Face and deploy it to a SageMaker serverless endpoint."
   ]
  },
  {
   "cell_type": "markdown",
   "id": "d0b88abc-c5be-4ef0-9aed-997fdea49a74",
   "metadata": {},
   "source": [
    "### Download  CLIP-ViT-B-32 model"
   ]
  },
  {
   "cell_type": "code",
   "execution_count": 1,
   "id": "d9217686-2b99-4ff0-ba5b-a321143aa1cf",
   "metadata": {},
   "outputs": [
    {
     "name": "stderr",
     "output_type": "stream",
     "text": [
      "C:\\Users\\tochi\\anaconda3\\envs\\upwork-dev\\lib\\site-packages\\tqdm\\auto.py:21: TqdmWarning: IProgress not found. Please update jupyter and ipywidgets. See https://ipywidgets.readthedocs.io/en/stable/user_install.html\n",
      "  from .autonotebook import tqdm as notebook_tqdm\n",
      "Fetching 11 files: 100%|████████████████████████████████████████████████████████████████████████████████████████████████████████████████████████████████████████████████████████| 11/11 [00:00<00:00, 14.44it/s]\n"
     ]
    },
    {
     "data": {
      "text/plain": [
       "'C:\\\\Users\\\\tochi\\\\OneDrive\\\\Documents\\\\Upwork_Job\\\\clip-embedding-api\\\\CLIP-ViT-B-32'"
      ]
     },
     "execution_count": 1,
     "metadata": {},
     "output_type": "execute_result"
    }
   ],
   "source": [
    "from huggingface_hub import snapshot_download\n",
    "\n",
    "snapshot_download(repo_id=\"sentence-transformers/clip-ViT-B-32\", local_dir=\"./CLIP-ViT-B-32\")\n"
   ]
  },
  {
   "cell_type": "markdown",
   "id": "0517bc80-7811-4e9f-8941-fb5a6a252f5e",
   "metadata": {},
   "source": [
    "### Package and Upload CLIP-ViT-B-32 model to s3 bucket"
   ]
  },
  {
   "cell_type": "code",
   "execution_count": 2,
   "id": "3ebc26e3-7ab9-4c4e-b908-3093c4a2330b",
   "metadata": {},
   "outputs": [
    {
     "name": "stdout",
     "output_type": "stream",
     "text": [
      "C:\\Users\\tochi\\OneDrive\\Documents\\Upwork_Job\\clip-embedding-api\\CLIP-ViT-B-32\n"
     ]
    },
    {
     "name": "stderr",
     "output_type": "stream",
     "text": [
      "a .cache\n",
      "a .gitattributes\n",
      "a 0_CLIPModel\n",
      "a config_sentence_transformers.json\n",
      "a model.tar.gz\n",
      "a modules.json\n",
      "a README.md\n",
      "a 0_CLIPModel/config.json\n",
      "a 0_CLIPModel/merges.txt\n",
      "a 0_CLIPModel/preprocessor_config.json\n",
      "a 0_CLIPModel/pytorch_model.bin\n",
      "a 0_CLIPModel/special_tokens_map.json\n",
      "a 0_CLIPModel/tokenizer_config.json\n",
      "a 0_CLIPModel/vocab.json\n",
      "a .cache/huggingface\n",
      "a .cache/huggingface/.gitignore\n",
      "a .cache/huggingface/download\n",
      "a .cache/huggingface/download/.gitattributes.metadata\n",
      "a .cache/huggingface/download/0_CLIPModel\n",
      "a .cache/huggingface/download/config_sentence_transformers.json.metadata\n",
      "a .cache/huggingface/download/modules.json.metadata\n",
      "a .cache/huggingface/download/README.md.metadata\n",
      "a .cache/huggingface/download/0_CLIPModel/config.json.metadata\n",
      "a .cache/huggingface/download/0_CLIPModel/merges.txt.metadata\n",
      "a .cache/huggingface/download/0_CLIPModel/preprocessor_config.json.metadata\n",
      "a .cache/huggingface/download/0_CLIPModel/pytorch_model.bin.metadata\n",
      "a .cache/huggingface/download/0_CLIPModel/special_tokens_map.json.metadata\n",
      "a .cache/huggingface/download/0_CLIPModel/tokenizer_config.json.metadata\n",
      "a .cache/huggingface/download/0_CLIPModel/vocab.json.metadata\n"
     ]
    }
   ],
   "source": [
    "%cd  CLIP-ViT-B-32\n",
    "!tar zcvf model.tar.gz *"
   ]
  },
  {
   "cell_type": "code",
   "execution_count": 3,
   "id": "af86b28c-c872-49b9-9d78-76a86cda0687",
   "metadata": {},
   "outputs": [
    {
     "name": "stderr",
     "output_type": "stream",
     "text": [
      "C:\\Users\\tochi\\anaconda3\\envs\\upwork-dev\\lib\\site-packages\\pydantic\\_internal\\_fields.py:172: UserWarning: Field name \"json\" in \"MonitoringDatasetFormat\" shadows an attribute in parent \"Base\"\n",
      "  warnings.warn(\n"
     ]
    },
    {
     "data": {
      "text/html": [
       "<pre style=\"white-space:pre;overflow-x:auto;line-height:normal;font-family:Menlo,'DejaVu Sans Mono',consolas,'Courier New',monospace\"><span style=\"color: #7fbfbf; text-decoration-color: #7fbfbf\">[05/24/25 04:09:00] </span><span style=\"color: #0069ff; text-decoration-color: #0069ff; font-weight: bold\">INFO    </span> Found credentials in shared credentials file: ~<span style=\"color: #e100e1; text-decoration-color: #e100e1\">/.aws/credentials</span>   <a href=\"file://C:\\Users\\tochi\\anaconda3\\envs\\upwork-dev\\lib\\site-packages\\botocore\\credentials.py\" target=\"_blank\"><span style=\"color: #7f7f7f; text-decoration-color: #7f7f7f\">credentials.py</span></a><span style=\"color: #7f7f7f; text-decoration-color: #7f7f7f\">:</span><a href=\"file://C:\\Users\\tochi\\anaconda3\\envs\\upwork-dev\\lib\\site-packages\\botocore\\credentials.py#1278\" target=\"_blank\"><span style=\"color: #7f7f7f; text-decoration-color: #7f7f7f\">1278</span></a>\n",
       "</pre>\n"
      ],
      "text/plain": [
       "\u001b[2;36m[05/24/25 04:09:00]\u001b[0m\u001b[2;36m \u001b[0m\u001b[1;38;2;0;105;255mINFO    \u001b[0m Found credentials in shared credentials file: ~\u001b[38;2;225;0;225m/.aws/\u001b[0m\u001b[38;2;225;0;225mcredentials\u001b[0m   \u001b]8;id=287087;file://C:\\Users\\tochi\\anaconda3\\envs\\upwork-dev\\lib\\site-packages\\botocore\\credentials.py\u001b\\\u001b[2mcredentials.py\u001b[0m\u001b]8;;\u001b\\\u001b[2m:\u001b[0m\u001b]8;id=840475;file://C:\\Users\\tochi\\anaconda3\\envs\\upwork-dev\\lib\\site-packages\\botocore\\credentials.py#1278\u001b\\\u001b[2m1278\u001b[0m\u001b]8;;\u001b\\\n"
      ]
     },
     "metadata": {},
     "output_type": "display_data"
    },
    {
     "name": "stdout",
     "output_type": "stream",
     "text": [
      "sagemaker.config INFO - Not applying SDK defaults from location: C:\\ProgramData\\sagemaker\\sagemaker\\config.yaml\n",
      "sagemaker.config INFO - Not applying SDK defaults from location: C:\\Users\\tochi\\AppData\\Local\\sagemaker\\sagemaker\\config.yaml\n"
     ]
    },
    {
     "data": {
      "text/html": [
       "<pre style=\"white-space:pre;overflow-x:auto;line-height:normal;font-family:Menlo,'DejaVu Sans Mono',consolas,'Courier New',monospace\"><span style=\"color: #7fbfbf; text-decoration-color: #7fbfbf\">[05/24/25 04:09:01] </span><span style=\"color: #0069ff; text-decoration-color: #0069ff; font-weight: bold\">INFO    </span> Found credentials in shared credentials file: ~<span style=\"color: #e100e1; text-decoration-color: #e100e1\">/.aws/credentials</span>   <a href=\"file://C:\\Users\\tochi\\anaconda3\\envs\\upwork-dev\\lib\\site-packages\\botocore\\credentials.py\" target=\"_blank\"><span style=\"color: #7f7f7f; text-decoration-color: #7f7f7f\">credentials.py</span></a><span style=\"color: #7f7f7f; text-decoration-color: #7f7f7f\">:</span><a href=\"file://C:\\Users\\tochi\\anaconda3\\envs\\upwork-dev\\lib\\site-packages\\botocore\\credentials.py#1278\" target=\"_blank\"><span style=\"color: #7f7f7f; text-decoration-color: #7f7f7f\">1278</span></a>\n",
       "</pre>\n"
      ],
      "text/plain": [
       "\u001b[2;36m[05/24/25 04:09:01]\u001b[0m\u001b[2;36m \u001b[0m\u001b[1;38;2;0;105;255mINFO    \u001b[0m Found credentials in shared credentials file: ~\u001b[38;2;225;0;225m/.aws/\u001b[0m\u001b[38;2;225;0;225mcredentials\u001b[0m   \u001b]8;id=928116;file://C:\\Users\\tochi\\anaconda3\\envs\\upwork-dev\\lib\\site-packages\\botocore\\credentials.py\u001b\\\u001b[2mcredentials.py\u001b[0m\u001b]8;;\u001b\\\u001b[2m:\u001b[0m\u001b]8;id=937716;file://C:\\Users\\tochi\\anaconda3\\envs\\upwork-dev\\lib\\site-packages\\botocore\\credentials.py#1278\u001b\\\u001b[2m1278\u001b[0m\u001b]8;;\u001b\\\n"
      ]
     },
     "metadata": {},
     "output_type": "display_data"
    },
    {
     "data": {
      "text/html": [
       "<pre style=\"white-space:pre;overflow-x:auto;line-height:normal;font-family:Menlo,'DejaVu Sans Mono',consolas,'Courier New',monospace\"><span style=\"color: #7fbfbf; text-decoration-color: #7fbfbf\">[05/24/25 04:09:02] </span><span style=\"color: #0069ff; text-decoration-color: #0069ff; font-weight: bold\">INFO    </span> Found credentials in shared credentials file: ~<span style=\"color: #e100e1; text-decoration-color: #e100e1\">/.aws/credentials</span>   <a href=\"file://C:\\Users\\tochi\\anaconda3\\envs\\upwork-dev\\lib\\site-packages\\botocore\\credentials.py\" target=\"_blank\"><span style=\"color: #7f7f7f; text-decoration-color: #7f7f7f\">credentials.py</span></a><span style=\"color: #7f7f7f; text-decoration-color: #7f7f7f\">:</span><a href=\"file://C:\\Users\\tochi\\anaconda3\\envs\\upwork-dev\\lib\\site-packages\\botocore\\credentials.py#1278\" target=\"_blank\"><span style=\"color: #7f7f7f; text-decoration-color: #7f7f7f\">1278</span></a>\n",
       "</pre>\n"
      ],
      "text/plain": [
       "\u001b[2;36m[05/24/25 04:09:02]\u001b[0m\u001b[2;36m \u001b[0m\u001b[1;38;2;0;105;255mINFO    \u001b[0m Found credentials in shared credentials file: ~\u001b[38;2;225;0;225m/.aws/\u001b[0m\u001b[38;2;225;0;225mcredentials\u001b[0m   \u001b]8;id=670058;file://C:\\Users\\tochi\\anaconda3\\envs\\upwork-dev\\lib\\site-packages\\botocore\\credentials.py\u001b\\\u001b[2mcredentials.py\u001b[0m\u001b]8;;\u001b\\\u001b[2m:\u001b[0m\u001b]8;id=901644;file://C:\\Users\\tochi\\anaconda3\\envs\\upwork-dev\\lib\\site-packages\\botocore\\credentials.py#1278\u001b\\\u001b[2m1278\u001b[0m\u001b]8;;\u001b\\\n"
      ]
     },
     "metadata": {},
     "output_type": "display_data"
    }
   ],
   "source": [
    "import sagemaker\n",
    "import boto3\n",
    "\n",
    "sess = sagemaker.Session()\n",
    "account = boto3.client(\"sts\").get_caller_identity().get(\"Account\")\n",
    "role = f\"arn:aws:iam::{account}:role/service-role/AmazonSageMakerServiceCatalogProductsUseRole\""
   ]
  },
  {
   "cell_type": "code",
   "execution_count": 4,
   "id": "41fd4939-9c95-4d77-8656-9d7a1b53655e",
   "metadata": {},
   "outputs": [
    {
     "name": "stdout",
     "output_type": "stream",
     "text": [
      "S3 Model Path: s3://huggingface-clip-models/ CLIP-ViT-B-32/model.tar.gz\n"
     ]
    }
   ],
   "source": [
    "bucket = \"huggingface-clip-models\"\n",
    "model_artifact = sagemaker.Session().upload_data(\"model.tar.gz\", bucket=bucket, key_prefix=\" CLIP-ViT-B-32\")\n",
    "print(\"S3 Model Path:\", model_artifact)"
   ]
  },
  {
   "cell_type": "markdown",
   "id": "d7f8e704-84f3-45e5-a496-9c049c66cbb3",
   "metadata": {},
   "source": [
    "### Create a Sagemaker Huggingface Model"
   ]
  },
  {
   "cell_type": "code",
   "execution_count": 11,
   "id": "9ce319bc-9a5c-40f0-95e2-68176431a063",
   "metadata": {},
   "outputs": [
    {
     "data": {
      "text/html": [
       "<pre style=\"white-space:pre;overflow-x:auto;line-height:normal;font-family:Menlo,'DejaVu Sans Mono',consolas,'Courier New',monospace\"><span style=\"color: #7fbfbf; text-decoration-color: #7fbfbf\">[05/22/25 23:35:43] </span><span style=\"color: #0069ff; text-decoration-color: #0069ff; font-weight: bold\">INFO    </span> Found credentials from IAM Role:                                   <a href=\"file:///home/ec2-user/anaconda3/envs/pytorch_p310/lib/python3.10/site-packages/botocore/credentials.py\" target=\"_blank\"><span style=\"color: #7f7f7f; text-decoration-color: #7f7f7f\">credentials.py</span></a><span style=\"color: #7f7f7f; text-decoration-color: #7f7f7f\">:</span><a href=\"file:///home/ec2-user/anaconda3/envs/pytorch_p310/lib/python3.10/site-packages/botocore/credentials.py#1132\" target=\"_blank\"><span style=\"color: #7f7f7f; text-decoration-color: #7f7f7f\">1132</span></a>\n",
       "<span style=\"color: #7fbfbf; text-decoration-color: #7fbfbf\">                    </span>         BaseNotebookInstanceEc2InstanceRole                                <span style=\"color: #7f7f7f; text-decoration-color: #7f7f7f\">                   </span>\n",
       "</pre>\n"
      ],
      "text/plain": [
       "\u001b[2;36m[05/22/25 23:35:43]\u001b[0m\u001b[2;36m \u001b[0m\u001b[1;38;2;0;105;255mINFO    \u001b[0m Found credentials from IAM Role:                                   \u001b]8;id=383431;file:///home/ec2-user/anaconda3/envs/pytorch_p310/lib/python3.10/site-packages/botocore/credentials.py\u001b\\\u001b[2mcredentials.py\u001b[0m\u001b]8;;\u001b\\\u001b[2m:\u001b[0m\u001b]8;id=584607;file:///home/ec2-user/anaconda3/envs/pytorch_p310/lib/python3.10/site-packages/botocore/credentials.py#1132\u001b\\\u001b[2m1132\u001b[0m\u001b]8;;\u001b\\\n",
       "\u001b[2;36m                    \u001b[0m         BaseNotebookInstanceEc2InstanceRole                                \u001b[2m                   \u001b[0m\n"
      ]
     },
     "metadata": {},
     "output_type": "display_data"
    }
   ],
   "source": [
    "from sagemaker.huggingface.model import HuggingFaceModel\n",
    "\n",
    "# Create Hugging Face Model Class\n",
    "huggingface_model = HuggingFaceModel(\n",
    "   model_data = model_artifact,\n",
    "   role=role,                                          \n",
    "   transformers_version=\"4.26\",                          \n",
    "   pytorch_version=\"1.13\",                              \n",
    "   py_version='py39'                               \n",
    ")"
   ]
  },
  {
   "cell_type": "code",
   "execution_count": 15,
   "id": "98429651-03f9-47c5-af44-118900578e31",
   "metadata": {},
   "outputs": [],
   "source": [
    "from sagemaker.serverless import ServerlessInferenceConfig\n",
    "\n",
    "# Define serverless configuration\n",
    "serverless_config = ServerlessInferenceConfig(\n",
    "    memory_size_in_mb=3072,\n",
    "    max_concurrency=5       \n",
    ")"
   ]
  },
  {
   "cell_type": "code",
   "execution_count": 16,
   "id": "44a294a1-9ed9-4cd3-8db5-d15c510dd56c",
   "metadata": {},
   "outputs": [
    {
     "data": {
      "text/html": [
       "<pre style=\"white-space:pre;overflow-x:auto;line-height:normal;font-family:Menlo,'DejaVu Sans Mono',consolas,'Courier New',monospace\"><span style=\"color: #7fbfbf; text-decoration-color: #7fbfbf\">[05/22/25 23:39:03] </span><span style=\"color: #0069ff; text-decoration-color: #0069ff; font-weight: bold\">INFO    </span> Defaulting to CPU type when using serverless inference               <a href=\"file:///home/ec2-user/anaconda3/envs/pytorch_p310/lib/python3.10/site-packages/sagemaker/image_uris.py\" target=\"_blank\"><span style=\"color: #7f7f7f; text-decoration-color: #7f7f7f\">image_uris.py</span></a><span style=\"color: #7f7f7f; text-decoration-color: #7f7f7f\">:</span><a href=\"file:///home/ec2-user/anaconda3/envs/pytorch_p310/lib/python3.10/site-packages/sagemaker/image_uris.py#538\" target=\"_blank\"><span style=\"color: #7f7f7f; text-decoration-color: #7f7f7f\">538</span></a>\n",
       "</pre>\n"
      ],
      "text/plain": [
       "\u001b[2;36m[05/22/25 23:39:03]\u001b[0m\u001b[2;36m \u001b[0m\u001b[1;38;2;0;105;255mINFO    \u001b[0m Defaulting to CPU type when using serverless inference               \u001b]8;id=263125;file:///home/ec2-user/anaconda3/envs/pytorch_p310/lib/python3.10/site-packages/sagemaker/image_uris.py\u001b\\\u001b[2mimage_uris.py\u001b[0m\u001b]8;;\u001b\\\u001b[2m:\u001b[0m\u001b]8;id=327409;file:///home/ec2-user/anaconda3/envs/pytorch_p310/lib/python3.10/site-packages/sagemaker/image_uris.py#538\u001b\\\u001b[2m538\u001b[0m\u001b]8;;\u001b\\\n"
      ]
     },
     "metadata": {},
     "output_type": "display_data"
    },
    {
     "data": {
      "text/html": [
       "<pre style=\"white-space:pre;overflow-x:auto;line-height:normal;font-family:Menlo,'DejaVu Sans Mono',consolas,'Courier New',monospace\"><span style=\"color: #7fbfbf; text-decoration-color: #7fbfbf\">                    </span><span style=\"color: #0069ff; text-decoration-color: #0069ff; font-weight: bold\">INFO    </span> Creating model with name:                                              <a href=\"file:///home/ec2-user/anaconda3/envs/pytorch_p310/lib/python3.10/site-packages/sagemaker/session.py\" target=\"_blank\"><span style=\"color: #7f7f7f; text-decoration-color: #7f7f7f\">session.py</span></a><span style=\"color: #7f7f7f; text-decoration-color: #7f7f7f\">:</span><a href=\"file:///home/ec2-user/anaconda3/envs/pytorch_p310/lib/python3.10/site-packages/sagemaker/session.py#4094\" target=\"_blank\"><span style=\"color: #7f7f7f; text-decoration-color: #7f7f7f\">4094</span></a>\n",
       "<span style=\"color: #7fbfbf; text-decoration-color: #7fbfbf\">                    </span>         huggingface-pytorch-inference-<span style=\"color: #008080; text-decoration-color: #008080; font-weight: bold\">2025</span>-05-22-23-39-03-761                  <span style=\"color: #7f7f7f; text-decoration-color: #7f7f7f\">               </span>\n",
       "</pre>\n"
      ],
      "text/plain": [
       "\u001b[2;36m                   \u001b[0m\u001b[2;36m \u001b[0m\u001b[1;38;2;0;105;255mINFO    \u001b[0m Creating model with name:                                              \u001b]8;id=258602;file:///home/ec2-user/anaconda3/envs/pytorch_p310/lib/python3.10/site-packages/sagemaker/session.py\u001b\\\u001b[2msession.py\u001b[0m\u001b]8;;\u001b\\\u001b[2m:\u001b[0m\u001b]8;id=831966;file:///home/ec2-user/anaconda3/envs/pytorch_p310/lib/python3.10/site-packages/sagemaker/session.py#4094\u001b\\\u001b[2m4094\u001b[0m\u001b]8;;\u001b\\\n",
       "\u001b[2;36m                    \u001b[0m         huggingface-pytorch-inference-\u001b[1;36m2025\u001b[0m-05-22-23-39-03-761                  \u001b[2m               \u001b[0m\n"
      ]
     },
     "metadata": {},
     "output_type": "display_data"
    },
    {
     "data": {
      "text/html": [
       "<pre style=\"white-space:pre;overflow-x:auto;line-height:normal;font-family:Menlo,'DejaVu Sans Mono',consolas,'Courier New',monospace\"><span style=\"color: #7fbfbf; text-decoration-color: #7fbfbf\">[05/22/25 23:39:04] </span><span style=\"color: #0069ff; text-decoration-color: #0069ff; font-weight: bold\">INFO    </span> Creating endpoint-config with name clip-vit-b32                        <a href=\"file:///home/ec2-user/anaconda3/envs/pytorch_p310/lib/python3.10/site-packages/sagemaker/session.py\" target=\"_blank\"><span style=\"color: #7f7f7f; text-decoration-color: #7f7f7f\">session.py</span></a><span style=\"color: #7f7f7f; text-decoration-color: #7f7f7f\">:</span><a href=\"file:///home/ec2-user/anaconda3/envs/pytorch_p310/lib/python3.10/site-packages/sagemaker/session.py#6019\" target=\"_blank\"><span style=\"color: #7f7f7f; text-decoration-color: #7f7f7f\">6019</span></a>\n",
       "</pre>\n"
      ],
      "text/plain": [
       "\u001b[2;36m[05/22/25 23:39:04]\u001b[0m\u001b[2;36m \u001b[0m\u001b[1;38;2;0;105;255mINFO    \u001b[0m Creating endpoint-config with name clip-vit-b32                        \u001b]8;id=237329;file:///home/ec2-user/anaconda3/envs/pytorch_p310/lib/python3.10/site-packages/sagemaker/session.py\u001b\\\u001b[2msession.py\u001b[0m\u001b]8;;\u001b\\\u001b[2m:\u001b[0m\u001b]8;id=777830;file:///home/ec2-user/anaconda3/envs/pytorch_p310/lib/python3.10/site-packages/sagemaker/session.py#6019\u001b\\\u001b[2m6019\u001b[0m\u001b]8;;\u001b\\\n"
      ]
     },
     "metadata": {},
     "output_type": "display_data"
    },
    {
     "data": {
      "text/html": [
       "<pre style=\"white-space:pre;overflow-x:auto;line-height:normal;font-family:Menlo,'DejaVu Sans Mono',consolas,'Courier New',monospace\"><span style=\"color: #7fbfbf; text-decoration-color: #7fbfbf\">                    </span><span style=\"color: #0069ff; text-decoration-color: #0069ff; font-weight: bold\">INFO    </span> Creating endpoint with name clip-vit-b32                               <a href=\"file:///home/ec2-user/anaconda3/envs/pytorch_p310/lib/python3.10/site-packages/sagemaker/session.py\" target=\"_blank\"><span style=\"color: #7f7f7f; text-decoration-color: #7f7f7f\">session.py</span></a><span style=\"color: #7f7f7f; text-decoration-color: #7f7f7f\">:</span><a href=\"file:///home/ec2-user/anaconda3/envs/pytorch_p310/lib/python3.10/site-packages/sagemaker/session.py#4841\" target=\"_blank\"><span style=\"color: #7f7f7f; text-decoration-color: #7f7f7f\">4841</span></a>\n",
       "</pre>\n"
      ],
      "text/plain": [
       "\u001b[2;36m                   \u001b[0m\u001b[2;36m \u001b[0m\u001b[1;38;2;0;105;255mINFO    \u001b[0m Creating endpoint with name clip-vit-b32                               \u001b]8;id=486908;file:///home/ec2-user/anaconda3/envs/pytorch_p310/lib/python3.10/site-packages/sagemaker/session.py\u001b\\\u001b[2msession.py\u001b[0m\u001b]8;;\u001b\\\u001b[2m:\u001b[0m\u001b]8;id=960508;file:///home/ec2-user/anaconda3/envs/pytorch_p310/lib/python3.10/site-packages/sagemaker/session.py#4841\u001b\\\u001b[2m4841\u001b[0m\u001b]8;;\u001b\\\n"
      ]
     },
     "metadata": {},
     "output_type": "display_data"
    },
    {
     "name": "stdout",
     "output_type": "stream",
     "text": [
      "----!"
     ]
    }
   ],
   "source": [
    "predictor = huggingface_model.deploy(\n",
    "    serverless_inference_config=serverless_config,\n",
    "    endpoint_name=\"clip-vit-b32\"\n",
    ")"
   ]
  },
  {
   "cell_type": "markdown",
   "id": "8f9e3ec5-7833-4a79-926a-8e3b5d99ad93",
   "metadata": {},
   "source": [
    "### Test Deployed Endpoint"
   ]
  },
  {
   "cell_type": "code",
   "execution_count": 18,
   "id": "c0284ccb-50af-45ce-8f17-e67d5555914c",
   "metadata": {},
   "outputs": [
    {
     "name": "stdout",
     "output_type": "stream",
     "text": [
      "512\n",
      "[0.06883295625448227, 0.05073244869709015, -0.19384917616844177, 0.0483168363571167, 0.4674297571182251, -0.14501774311065674, -0.0009664297103881836, -0.0013284459710121155, 0.10332383215427399, 0.12118306756019592, 0.23240751028060913, 0.12693674862384796, -0.3725017011165619, 0.0022184550762176514, -0.3040201663970947, 0.49554067850112915, 0.09968911856412888, 0.14243429899215698, 0.2675679922103882, 0.0017742961645126343, 0.8995280861854553, 0.33221715688705444, -0.029950633645057678, -0.09795137494802475, 0.03955888748168945, 0.23206937313079834, -0.23208549618721008, 0.3274761438369751, -0.008250698447227478, 0.23895308375358582, -0.04064276069402695, 0.4726744294166565, -0.28956279158592224, 0.36877092719078064, 1.0801054239273071, -0.25806254148483276, -0.10077999532222748, -0.05344244837760925, -0.08659671247005463, -2.1564371585845947, -0.27350184321403503, -0.39885473251342773, 0.2571973204612732, -0.061588287353515625, 0.19745716452598572, -1.0242700576782227, -0.41791656613349915, -0.0635758712887764, 0.047993004322052, 0.08487820625305176, -0.36384811997413635, -0.12222331017255783, 0.20948006212711334, 0.41307151317596436, -0.2572009563446045, 0.04463876783847809, 0.5608985424041748, -0.08480378985404968, 0.4353561997413635, 0.23659348487854004, -0.9373547434806824, -0.153594508767128, -0.23423448204994202, 0.28438201546669006, -0.3085153102874756, -0.20698729157447815, -0.5764394998550415, -0.1461268663406372, -0.16391056776046753, -0.35256510972976685, 0.5024045705795288, 0.11694031953811646, 0.08189664781093597, -0.08159908652305603, 0.05784641578793526, -0.3809426724910736, -0.2979929447174072, 0.18698720633983612, -0.3736811876296997, 0.32605624198913574, -0.05437018349766731, 0.042333632707595825, 0.08346152305603027, -0.2596859335899353, 0.38914328813552856, 0.5251791477203369, 0.7328981161117554, -0.25878599286079407, -0.8347988128662109, -0.38552793860435486, 0.1428709775209427, 0.010087430477142334, -4.93308162689209, -0.6450192928314209, -0.19838672876358032, -0.24709577858448029, -0.5764352679252625, 0.034287095069885254, -0.23999224603176117, -0.8284964561462402, -0.20695635676383972, -0.25653502345085144, -0.23642991483211517, 0.12404394149780273, 0.21999676525592804, -0.2912310063838959, -3.217844009399414, -0.13032802939414978, 0.02554333209991455, -0.5090386271476746, 0.13121363520622253, -0.12261718511581421, 0.015251249074935913, -0.3111923038959503, 0.36584025621414185, -0.32003629207611084, 0.13353946805000305, -0.02659562975168228, -0.0170053169131279, -0.4156608581542969, -0.5277763605117798, 0.43675553798675537, 0.04681691527366638, 0.4147562086582184, -0.47363463044166565, 0.13766583800315857, -0.21542219817638397, -0.41554808616638184, -0.08518744260072708, -0.007564045488834381, -0.03785127401351929, 0.30900639295578003, 0.13555985689163208, 0.7373207807540894, -0.03562837839126587, -0.44158071279525757, -0.20140594244003296, -0.047713637351989746, 0.07259045541286469, 0.19447819888591766, -0.05486265569925308, -0.027797043323516846, 0.3928430378437042, -0.1320154368877411, -0.021707482635974884, 0.43432649970054626, 0.43499940633773804, 1.0580987930297852, 0.19161993265151978, -0.07165949046611786, 0.0894465446472168, -0.3701816499233246, 0.09509992599487305, 0.27285128831863403, -0.305736243724823, -0.16125234961509705, 0.12714868783950806, 0.17413200438022614, 0.3409879207611084, 0.3259768784046173, -0.08383560180664062, -0.34750857949256897, 0.08954674005508423, 0.2031245082616806, 0.3476426601409912, -0.6957693099975586, 0.6793540120124817, 0.22059884667396545, 0.2905671000480652, -0.0829058289527893, 0.26358360052108765, 0.132989764213562, 0.23126038908958435, -0.6708782911300659, 0.2336210459470749, 0.042871952056884766, 0.2732335925102234, -0.22062474489212036, 0.6687254905700684, -0.19895169138908386, 0.06356355547904968, -0.30002087354660034, -0.35436952114105225, 0.04901327192783356, 0.16338485479354858, 0.09888636320829391, -0.00266391783952713, 0.32408607006073, -0.4955180883407593, -0.08278469741344452, -0.12398464232683182, 0.02102743834257126, -0.11225763708353043, -0.04427778348326683, -0.0007836632430553436, 0.3176775574684143, 0.08142358064651489, -0.166032612323761, 0.011357605457305908, -0.3291453719139099, 0.1917361170053482, 0.18224412202835083, -0.48901426792144775, -0.10671965777873993, 0.19079366326332092, 0.25810712575912476, -0.387140691280365, -0.21778535842895508, -0.9475549459457397, 0.41159069538116455, -0.5697028636932373, -0.8348958492279053, 0.5096014738082886, -0.1740196943283081, -0.2827198803424835, 0.18237605690956116, 0.09048857539892197, -0.28249603509902954, 0.9250974655151367, 0.11782228946685791, 0.3883281946182251, -0.0368884801864624, -0.04330417513847351, 0.057537682354450226, -0.35885298252105713, 0.5673991441726685, 0.30424386262893677, 0.1916104108095169, -0.4319164752960205, -0.32429203391075134, -0.06499014794826508, -0.09031112492084503, -0.07138416171073914, 0.6386194825172424, 0.29095155000686646, -0.3031655550003052, 0.16118735074996948, -0.2477232664823532, 0.32607191801071167, -0.4105263650417328, 0.05085979402065277, -0.048337265849113464, -0.03951790928840637, -0.10690130293369293, 0.2245180308818817, 0.8558589220046997, 0.30812448263168335, -0.10346668213605881, -0.08990812301635742, -0.05122295022010803, -0.1392907202243805, 0.02120516449213028, 0.06122535467147827, 0.24261486530303955, -0.2965676784515381, -0.15707135200500488, -0.281718909740448, 0.32454806566238403, -1.4739149808883667, -0.05392121523618698, -0.030306003987789154, -0.1960899978876114, 0.12462920695543289, -0.2642824053764343, 0.313673198223114, -0.4158034324645996, -0.6852553486824036, 0.25793251395225525, -0.19355565309524536, -0.17843416333198547, 0.16964790225028992, 0.27983227372169495, 0.1671132743358612, -0.0376855842769146, 0.05138061195611954, -0.09066689014434814, -0.12041404843330383, 0.4062591791152954, -0.3237650990486145, -0.16497190296649933, -0.3812423646450043, -0.048763208091259, -0.21384045481681824, -0.02188800275325775, 0.14572420716285706, 0.0021477006375789642, -0.29809805750846863, -0.40641605854034424, -0.009992338716983795, -0.39498186111450195, -0.2616352438926697, 0.0882904976606369, 0.03444872796535492, -0.006499543786048889, -0.2535509467124939, 0.058735549449920654, 0.003175772726535797, 0.06709559261798859, -0.39372363686561584, -0.39683863520622253, -0.37310144305229187, 0.04832659661769867, -0.3306737244129181, -0.37784233689308167, 0.2678317129611969, -0.253193736076355, -0.33504360914230347, -0.03780952841043472, -0.33582839369773865, -0.017888545989990234, 0.22964468598365784, 0.36219707131385803, 0.7347148656845093, 0.480782151222229, -0.13802668452262878, -0.08514735102653503, -0.15472902357578278, 0.29052165150642395, -0.25462526082992554, 0.6509613990783691, -0.09762579202651978, 1.2229931354522705, -0.02417813241481781, -0.5560106635093689, -0.4274957776069641, 0.4908042252063751, -0.007779821753501892, 0.291177362203598, -0.24444667994976044, -0.35083362460136414, -0.005422636866569519, -0.15579906105995178, -0.0991719663143158, 0.16495178639888763, -0.06454874575138092, 0.3098444938659668, 0.16098831593990326, -0.007411196827888489, 0.32489973306655884, 0.05346723273396492, 0.4786927402019501, -0.07263312488794327, -0.6767830848693848, -0.035253770649433136, 0.3323935568332672, -0.1786317527294159, 0.17935030162334442, 0.10831382870674133, 0.6440044641494751, -0.04520418494939804, -0.11002018302679062, 0.1230631023645401, 0.4173443615436554, 0.25630736351013184, -0.2692628502845764, -0.13879576325416565, 0.2707042098045349, 0.5899580717086792, 0.048801302909851074, 0.13017071783542633, 0.8020305633544922, -0.23224307596683502, 0.338753879070282, 0.8578924536705017, -0.6875333786010742, -0.3230387568473816, -0.2839338779449463, -0.4718569815158844, -0.019012451171875, -0.45104604959487915, -0.12877558171749115, 0.23819071054458618, -0.30902254581451416, -0.34213849902153015, -0.18250297009944916, 0.3274104595184326, -0.5512741804122925, -0.16136834025382996, -0.5580016374588013, 0.03565619885921478, -0.6564440727233887, -0.10770449787378311, -0.30230364203453064, -0.13818329572677612, 0.027027413249015808, -0.4893054962158203, 0.2794736623764038, 0.35871365666389465, -0.31445592641830444, 0.8386008143424988, 0.2488948404788971, 0.07783052325248718, -0.346832811832428, 0.2846914529800415, 0.02397039532661438, 0.3909264802932739, 0.31172239780426025, 0.09222131967544556, -0.7293692231178284, -0.11651307344436646, -0.16372475028038025, -0.19707618653774261, 0.395156592130661, -0.43560031056404114, -0.026639476418495178, -0.14681527018547058, -0.646371603012085, -0.01122957468032837, 0.6302609443664551, -0.19243352115154266, 0.25392693281173706, -0.34426355361938477, 0.02389892190694809, 0.08365707844495773, -0.257274866104126, -0.06511516869068146, 0.36271345615386963, -0.1307220607995987, 0.12425986677408218, -0.09584102034568787, -0.05995958298444748, 0.11343206465244293, -0.18401463329792023, -0.15408733487129211, -0.08086208254098892, -0.10258752852678299, -0.2853277921676636, -0.46337687969207764, -3.1914498805999756, -0.17587612569332123, -0.29630613327026367, 0.11402470618486404, -0.4627762734889984, 0.3499724864959717, -0.04177340120077133, -0.1951456367969513, 0.40100714564323425, -0.36832329630851746, -0.13745467364788055, -0.17523430287837982, 0.11734406650066376, -0.21269915997982025, 0.1706932783126831, 0.33031773567199707, 0.06275727599859238, -0.04336667060852051, 0.2822040617465973, 0.07296894490718842, 0.09525665640830994, -0.17594662308692932, -0.9002739191055298, -0.05687412619590759, 0.3480936288833618, 0.34541749954223633, 0.6415008902549744, 0.5252339243888855, -0.03212818503379822, -0.307145357131958, 0.39099934697151184, 0.03307155519723892, -0.0338924378156662, -0.10246933996677399, -0.19008421897888184, 0.29551446437835693, 0.2761829197406769, -0.17716827988624573, 0.5385384559631348, 0.022350572049617767, -0.02606518566608429, -0.2068772315979004, -0.19741098582744598, 0.40418803691864014, -0.2646412253379822, -0.34932467341423035, 0.06986574828624725, -0.5267025232315063, -0.3344552218914032, 0.19304817914962769, 0.33589839935302734, 0.4016759693622589, 0.08798481523990631, -0.42530959844589233, -0.18534833192825317, 0.03299880027770996, 0.1524873673915863, 0.5123345255851746, -0.28004220128059387, -0.15780675411224365, 0.2898816168308258, -0.39117228984832764, 0.35843923687934875, 0.1332433819770813, 0.10936987400054932, 0.4064207375049591, -0.23821428418159485, 0.11113846302032471, 0.3784828782081604, 0.03089722990989685, 0.011768639087677002, -0.20567214488983154, 0.4130288362503052, 0.08472493290901184, -0.018912136554718018, 0.17046430706977844, -0.9435888528823853, 0.42714130878448486, 0.1180201917886734, 0.11081373691558838, -0.12237727642059326, 0.3815045952796936, 0.22103986144065857, -0.7173490524291992]\n"
     ]
    }
   ],
   "source": [
    "# Prepare base64 encoded image\n",
    "import base64\n",
    "\n",
    "# Load an image (make sure to use an RGB image like PNG or JPG)\n",
    "with open(\"aws_login.png\", \"rb\") as image_file:\n",
    "    encoded_image = base64.b64encode(image_file.read()).decode('utf-8')\n",
    "\n",
    "# Define payload with base64 image\n",
    "data = {\n",
    "  \"inputs\": {\n",
    "    \"image\": encoded_image\n",
    "  }\n",
    "}\n",
    "\n",
    "# Send prediction request to endpoint\n",
    "response = predictor.predict(data)\n",
    "print(len(response))\n",
    "print(response)"
   ]
  },
  {
   "cell_type": "code",
   "execution_count": null,
   "id": "3256701a-13d5-40eb-ab2f-f21f3b7c2e8f",
   "metadata": {},
   "outputs": [],
   "source": []
  }
 ],
 "metadata": {
  "kernelspec": {
   "display_name": "upwork-dev",
   "language": "python",
   "name": "upwork-dev"
  },
  "language_info": {
   "codemirror_mode": {
    "name": "ipython",
    "version": 3
   },
   "file_extension": ".py",
   "mimetype": "text/x-python",
   "name": "python",
   "nbconvert_exporter": "python",
   "pygments_lexer": "ipython3",
   "version": "3.10.14"
  }
 },
 "nbformat": 4,
 "nbformat_minor": 5
}
