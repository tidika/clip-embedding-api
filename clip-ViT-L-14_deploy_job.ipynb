{
 "cells": [
  {
   "cell_type": "markdown",
   "id": "2e30d709-2234-4e1a-afd1-846239464a37",
   "metadata": {},
   "source": [
    "This notebook contains code to download the CLIP-ViT-L-14 model from Hugging Face and deploy it to a SageMaker serverless endpoint."
   ]
  },
  {
   "cell_type": "markdown",
   "id": "d0b88abc-c5be-4ef0-9aed-997fdea49a74",
   "metadata": {},
   "source": [
    "### Download  CLIP-ViT-L-14 model"
   ]
  },
  {
   "cell_type": "code",
   "execution_count": 1,
   "id": "d9217686-2b99-4ff0-ba5b-a321143aa1cf",
   "metadata": {},
   "outputs": [
    {
     "name": "stderr",
     "output_type": "stream",
     "text": [
      "C:\\Users\\tochi\\anaconda3\\envs\\upwork-dev\\lib\\site-packages\\tqdm\\auto.py:21: TqdmWarning: IProgress not found. Please update jupyter and ipywidgets. See https://ipywidgets.readthedocs.io/en/stable/user_install.html\n",
      "  from .autonotebook import tqdm as notebook_tqdm\n",
      "Fetching 12 files: 100%|█████████████████████████████████████████████| 12/12 [00:30<00:00,  2.50s/it]\n"
     ]
    },
    {
     "data": {
      "text/plain": [
       "'C:\\\\Users\\\\tochi\\\\OneDrive\\\\Documents\\\\Upwork_Job\\\\clip-embedding-api\\\\CLIP-ViT-L-14'"
      ]
     },
     "execution_count": 1,
     "metadata": {},
     "output_type": "execute_result"
    }
   ],
   "source": [
    "from huggingface_hub import snapshot_download\n",
    "\n",
    "snapshot_download(repo_id=\"sentence-transformers/clip-ViT-L-14\", local_dir=\"./CLIP-ViT-L-14\")\n"
   ]
  },
  {
   "cell_type": "markdown",
   "id": "0517bc80-7811-4e9f-8941-fb5a6a252f5e",
   "metadata": {},
   "source": [
    "### Package and Upload CLIP-ViT-L-14 model to s3 bucket"
   ]
  },
  {
   "cell_type": "code",
   "execution_count": 1,
   "id": "7e04a7d9-37b2-4acc-aac7-6207d40ebaac",
   "metadata": {},
   "outputs": [
    {
     "name": "stdout",
     "output_type": "stream",
     "text": [
      "C:\\Users\\tochi\\OneDrive\\Documents\\Upwork_Job\\clip-embedding-api\\CLIP-ViT-L-14\n"
     ]
    },
    {
     "name": "stderr",
     "output_type": "stream",
     "text": [
      "a .cache\n",
      "a .gitattributes\n",
      "a 0_CLIPModel\n",
      "a code\n",
      "a config_sentence_transformers.json\n",
      "a model.tar.gz\n",
      "a modules.json\n",
      "a README.md\n",
      "a code/.ipynb_checkpoints\n",
      "a code/inference.py\n",
      "a code/requirements.txt\n",
      "a code/.ipynb_checkpoints/inference-checkpoint.py\n",
      "a code/.ipynb_checkpoints/requirements-checkpoint.txt\n",
      "a 0_CLIPModel/config.json\n",
      "a 0_CLIPModel/merges.txt\n",
      "a 0_CLIPModel/preprocessor_config.json\n",
      "a 0_CLIPModel/pytorch_model.bin\n",
      "a 0_CLIPModel/special_tokens_map.json\n",
      "a 0_CLIPModel/tokenizer.json\n",
      "a 0_CLIPModel/tokenizer_config.json\n",
      "a 0_CLIPModel/vocab.json\n",
      "a .cache/huggingface\n",
      "a .cache/huggingface/.gitignore\n",
      "a .cache/huggingface/download\n",
      "a .cache/huggingface/download/.gitattributes.metadata\n",
      "a .cache/huggingface/download/0_CLIPModel\n",
      "a .cache/huggingface/download/config_sentence_transformers.json.metadata\n",
      "a .cache/huggingface/download/modules.json.metadata\n",
      "a .cache/huggingface/download/README.md.metadata\n",
      "a .cache/huggingface/download/0_CLIPModel/config.json.metadata\n",
      "a .cache/huggingface/download/0_CLIPModel/merges.txt.metadata\n",
      "a .cache/huggingface/download/0_CLIPModel/preprocessor_config.json.metadata\n",
      "a .cache/huggingface/download/0_CLIPModel/pytorch_model.bin.metadata\n",
      "a .cache/huggingface/download/0_CLIPModel/special_tokens_map.json.metadata\n",
      "a .cache/huggingface/download/0_CLIPModel/tokenizer.json.metadata\n",
      "a .cache/huggingface/download/0_CLIPModel/tokenizer_config.json.metadata\n",
      "a .cache/huggingface/download/0_CLIPModel/vocab.json.metadata\n"
     ]
    }
   ],
   "source": [
    "%cd  CLIP-ViT-L-14\n",
    "!tar --exclude='.cache' -zcvf model.tar.gz *"
   ]
  },
  {
   "cell_type": "code",
   "execution_count": 2,
   "id": "af86b28c-c872-49b9-9d78-76a86cda0687",
   "metadata": {},
   "outputs": [
    {
     "name": "stderr",
     "output_type": "stream",
     "text": [
      "C:\\Users\\tochi\\anaconda3\\envs\\upwork-dev\\lib\\site-packages\\pydantic\\_internal\\_fields.py:172: UserWarning: Field name \"json\" in \"MonitoringDatasetFormat\" shadows an attribute in parent \"Base\"\n",
      "  warnings.warn(\n"
     ]
    },
    {
     "data": {
      "text/html": [
       "<pre style=\"white-space:pre;overflow-x:auto;line-height:normal;font-family:Menlo,'DejaVu Sans Mono',consolas,'Courier New',monospace\"><span style=\"color: #7fbfbf; text-decoration-color: #7fbfbf\">[05/27/25 11:49:48] </span><span style=\"color: #0069ff; text-decoration-color: #0069ff; font-weight: bold\">INFO    </span> Found credentials in shared credentials file: ~<span style=\"color: #e100e1; text-decoration-color: #e100e1\">/.aws/credentials</span>   <a href=\"file://C:\\Users\\tochi\\anaconda3\\envs\\upwork-dev\\lib\\site-packages\\botocore\\credentials.py\" target=\"_blank\"><span style=\"color: #7f7f7f; text-decoration-color: #7f7f7f\">credentials.py</span></a><span style=\"color: #7f7f7f; text-decoration-color: #7f7f7f\">:</span><a href=\"file://C:\\Users\\tochi\\anaconda3\\envs\\upwork-dev\\lib\\site-packages\\botocore\\credentials.py#1278\" target=\"_blank\"><span style=\"color: #7f7f7f; text-decoration-color: #7f7f7f\">1278</span></a>\n",
       "</pre>\n"
      ],
      "text/plain": [
       "\u001b[2;36m[05/27/25 11:49:48]\u001b[0m\u001b[2;36m \u001b[0m\u001b[1;38;2;0;105;255mINFO    \u001b[0m Found credentials in shared credentials file: ~\u001b[38;2;225;0;225m/.aws/\u001b[0m\u001b[38;2;225;0;225mcredentials\u001b[0m   \u001b]8;id=129411;file://C:\\Users\\tochi\\anaconda3\\envs\\upwork-dev\\lib\\site-packages\\botocore\\credentials.py\u001b\\\u001b[2mcredentials.py\u001b[0m\u001b]8;;\u001b\\\u001b[2m:\u001b[0m\u001b]8;id=977432;file://C:\\Users\\tochi\\anaconda3\\envs\\upwork-dev\\lib\\site-packages\\botocore\\credentials.py#1278\u001b\\\u001b[2m1278\u001b[0m\u001b]8;;\u001b\\\n"
      ]
     },
     "metadata": {},
     "output_type": "display_data"
    },
    {
     "name": "stdout",
     "output_type": "stream",
     "text": [
      "sagemaker.config INFO - Not applying SDK defaults from location: C:\\ProgramData\\sagemaker\\sagemaker\\config.yaml\n",
      "sagemaker.config INFO - Not applying SDK defaults from location: C:\\Users\\tochi\\AppData\\Local\\sagemaker\\sagemaker\\config.yaml\n"
     ]
    },
    {
     "data": {
      "text/html": [
       "<pre style=\"white-space:pre;overflow-x:auto;line-height:normal;font-family:Menlo,'DejaVu Sans Mono',consolas,'Courier New',monospace\"><span style=\"color: #7fbfbf; text-decoration-color: #7fbfbf\">[05/27/25 11:49:49] </span><span style=\"color: #0069ff; text-decoration-color: #0069ff; font-weight: bold\">INFO    </span> Found credentials in shared credentials file: ~<span style=\"color: #e100e1; text-decoration-color: #e100e1\">/.aws/credentials</span>   <a href=\"file://C:\\Users\\tochi\\anaconda3\\envs\\upwork-dev\\lib\\site-packages\\botocore\\credentials.py\" target=\"_blank\"><span style=\"color: #7f7f7f; text-decoration-color: #7f7f7f\">credentials.py</span></a><span style=\"color: #7f7f7f; text-decoration-color: #7f7f7f\">:</span><a href=\"file://C:\\Users\\tochi\\anaconda3\\envs\\upwork-dev\\lib\\site-packages\\botocore\\credentials.py#1278\" target=\"_blank\"><span style=\"color: #7f7f7f; text-decoration-color: #7f7f7f\">1278</span></a>\n",
       "</pre>\n"
      ],
      "text/plain": [
       "\u001b[2;36m[05/27/25 11:49:49]\u001b[0m\u001b[2;36m \u001b[0m\u001b[1;38;2;0;105;255mINFO    \u001b[0m Found credentials in shared credentials file: ~\u001b[38;2;225;0;225m/.aws/\u001b[0m\u001b[38;2;225;0;225mcredentials\u001b[0m   \u001b]8;id=971867;file://C:\\Users\\tochi\\anaconda3\\envs\\upwork-dev\\lib\\site-packages\\botocore\\credentials.py\u001b\\\u001b[2mcredentials.py\u001b[0m\u001b]8;;\u001b\\\u001b[2m:\u001b[0m\u001b]8;id=662478;file://C:\\Users\\tochi\\anaconda3\\envs\\upwork-dev\\lib\\site-packages\\botocore\\credentials.py#1278\u001b\\\u001b[2m1278\u001b[0m\u001b]8;;\u001b\\\n"
      ]
     },
     "metadata": {},
     "output_type": "display_data"
    },
    {
     "data": {
      "text/html": [
       "<pre style=\"white-space:pre;overflow-x:auto;line-height:normal;font-family:Menlo,'DejaVu Sans Mono',consolas,'Courier New',monospace\"><span style=\"color: #7fbfbf; text-decoration-color: #7fbfbf\">                    </span><span style=\"color: #0069ff; text-decoration-color: #0069ff; font-weight: bold\">INFO    </span> Found credentials in shared credentials file: ~<span style=\"color: #e100e1; text-decoration-color: #e100e1\">/.aws/credentials</span>   <a href=\"file://C:\\Users\\tochi\\anaconda3\\envs\\upwork-dev\\lib\\site-packages\\botocore\\credentials.py\" target=\"_blank\"><span style=\"color: #7f7f7f; text-decoration-color: #7f7f7f\">credentials.py</span></a><span style=\"color: #7f7f7f; text-decoration-color: #7f7f7f\">:</span><a href=\"file://C:\\Users\\tochi\\anaconda3\\envs\\upwork-dev\\lib\\site-packages\\botocore\\credentials.py#1278\" target=\"_blank\"><span style=\"color: #7f7f7f; text-decoration-color: #7f7f7f\">1278</span></a>\n",
       "</pre>\n"
      ],
      "text/plain": [
       "\u001b[2;36m                   \u001b[0m\u001b[2;36m \u001b[0m\u001b[1;38;2;0;105;255mINFO    \u001b[0m Found credentials in shared credentials file: ~\u001b[38;2;225;0;225m/.aws/\u001b[0m\u001b[38;2;225;0;225mcredentials\u001b[0m   \u001b]8;id=918720;file://C:\\Users\\tochi\\anaconda3\\envs\\upwork-dev\\lib\\site-packages\\botocore\\credentials.py\u001b\\\u001b[2mcredentials.py\u001b[0m\u001b]8;;\u001b\\\u001b[2m:\u001b[0m\u001b]8;id=717400;file://C:\\Users\\tochi\\anaconda3\\envs\\upwork-dev\\lib\\site-packages\\botocore\\credentials.py#1278\u001b\\\u001b[2m1278\u001b[0m\u001b]8;;\u001b\\\n"
      ]
     },
     "metadata": {},
     "output_type": "display_data"
    }
   ],
   "source": [
    "import sagemaker\n",
    "import boto3\n",
    "\n",
    "sess = sagemaker.Session()\n",
    "account = boto3.client(\"sts\").get_caller_identity().get(\"Account\")\n",
    "role = f\"arn:aws:iam::{account}:role/service-role/AmazonSageMakerServiceCatalogProductsUseRole\""
   ]
  },
  {
   "cell_type": "code",
   "execution_count": 3,
   "id": "41fd4939-9c95-4d77-8656-9d7a1b53655e",
   "metadata": {},
   "outputs": [
    {
     "name": "stdout",
     "output_type": "stream",
     "text": [
      "S3 Model Path: s3://huggingface-clip-models/CLIP-ViT-L-14/model.tar.gz\n"
     ]
    }
   ],
   "source": [
    "bucket = \"huggingface-clip-models\"\n",
    "model_artifact = sess.upload_data(\"model.tar.gz\", bucket=bucket, key_prefix=\"CLIP-ViT-L-14\")\n",
    "print(\"S3 Model Path:\", model_artifact)"
   ]
  },
  {
   "cell_type": "markdown",
   "id": "d7f8e704-84f3-45e5-a496-9c049c66cbb3",
   "metadata": {},
   "source": [
    "### Create a Sagemaker Huggingface Model"
   ]
  },
  {
   "cell_type": "code",
   "execution_count": 4,
   "id": "9ce319bc-9a5c-40f0-95e2-68176431a063",
   "metadata": {},
   "outputs": [],
   "source": [
    "from sagemaker.huggingface.model import HuggingFaceModel\n",
    "\n",
    "# Create Hugging Face Model Class\n",
    "huggingface_model = HuggingFaceModel(\n",
    "   model_data = model_artifact,\n",
    "   role=role,                                          \n",
    "   transformers_version=\"4.26\",                          \n",
    "   pytorch_version=\"1.13\",                              \n",
    "   py_version='py39',\n",
    "   env={\"HF_TASK\": \"feature-extraction\"}\n",
    "    \n",
    ")"
   ]
  },
  {
   "cell_type": "code",
   "execution_count": 5,
   "id": "98429651-03f9-47c5-af44-118900578e31",
   "metadata": {},
   "outputs": [],
   "source": [
    "from sagemaker.serverless import ServerlessInferenceConfig\n",
    "\n",
    "# Define serverless configuration\n",
    "serverless_config = ServerlessInferenceConfig(\n",
    "    memory_size_in_mb=5120,\n",
    "    max_concurrency=5       \n",
    ")"
   ]
  },
  {
   "cell_type": "code",
   "execution_count": 6,
   "id": "44a294a1-9ed9-4cd3-8db5-d15c510dd56c",
   "metadata": {},
   "outputs": [
    {
     "data": {
      "text/html": [
       "<pre style=\"white-space:pre;overflow-x:auto;line-height:normal;font-family:Menlo,'DejaVu Sans Mono',consolas,'Courier New',monospace\"><span style=\"color: #7fbfbf; text-decoration-color: #7fbfbf\">[05/27/25 11:52:56] </span><span style=\"color: #0069ff; text-decoration-color: #0069ff; font-weight: bold\">INFO    </span> Defaulting to CPU type when using serverless inference               <a href=\"file://C:\\Users\\tochi\\anaconda3\\envs\\upwork-dev\\lib\\site-packages\\sagemaker\\image_uris.py\" target=\"_blank\"><span style=\"color: #7f7f7f; text-decoration-color: #7f7f7f\">image_uris.py</span></a><span style=\"color: #7f7f7f; text-decoration-color: #7f7f7f\">:</span><a href=\"file://C:\\Users\\tochi\\anaconda3\\envs\\upwork-dev\\lib\\site-packages\\sagemaker\\image_uris.py#536\" target=\"_blank\"><span style=\"color: #7f7f7f; text-decoration-color: #7f7f7f\">536</span></a>\n",
       "</pre>\n"
      ],
      "text/plain": [
       "\u001b[2;36m[05/27/25 11:52:56]\u001b[0m\u001b[2;36m \u001b[0m\u001b[1;38;2;0;105;255mINFO    \u001b[0m Defaulting to CPU type when using serverless inference               \u001b]8;id=365935;file://C:\\Users\\tochi\\anaconda3\\envs\\upwork-dev\\lib\\site-packages\\sagemaker\\image_uris.py\u001b\\\u001b[2mimage_uris.py\u001b[0m\u001b]8;;\u001b\\\u001b[2m:\u001b[0m\u001b]8;id=336841;file://C:\\Users\\tochi\\anaconda3\\envs\\upwork-dev\\lib\\site-packages\\sagemaker\\image_uris.py#536\u001b\\\u001b[2m536\u001b[0m\u001b]8;;\u001b\\\n"
      ]
     },
     "metadata": {},
     "output_type": "display_data"
    },
    {
     "data": {
      "text/html": [
       "<pre style=\"white-space:pre;overflow-x:auto;line-height:normal;font-family:Menlo,'DejaVu Sans Mono',consolas,'Courier New',monospace\"><span style=\"color: #7fbfbf; text-decoration-color: #7fbfbf\">[05/27/25 11:52:58] </span><span style=\"color: #0069ff; text-decoration-color: #0069ff; font-weight: bold\">INFO    </span> Creating model with name:                                              <a href=\"file://C:\\Users\\tochi\\anaconda3\\envs\\upwork-dev\\lib\\site-packages\\sagemaker\\session.py\" target=\"_blank\"><span style=\"color: #7f7f7f; text-decoration-color: #7f7f7f\">session.py</span></a><span style=\"color: #7f7f7f; text-decoration-color: #7f7f7f\">:</span><a href=\"file://C:\\Users\\tochi\\anaconda3\\envs\\upwork-dev\\lib\\site-packages\\sagemaker\\session.py#4094\" target=\"_blank\"><span style=\"color: #7f7f7f; text-decoration-color: #7f7f7f\">4094</span></a>\n",
       "<span style=\"color: #7fbfbf; text-decoration-color: #7fbfbf\">                    </span>         huggingface-pytorch-inference-<span style=\"color: #008080; text-decoration-color: #008080; font-weight: bold\">2025</span>-05-27-16-52-58-339                  <span style=\"color: #7f7f7f; text-decoration-color: #7f7f7f\">               </span>\n",
       "</pre>\n"
      ],
      "text/plain": [
       "\u001b[2;36m[05/27/25 11:52:58]\u001b[0m\u001b[2;36m \u001b[0m\u001b[1;38;2;0;105;255mINFO    \u001b[0m Creating model with name:                                              \u001b]8;id=896173;file://C:\\Users\\tochi\\anaconda3\\envs\\upwork-dev\\lib\\site-packages\\sagemaker\\session.py\u001b\\\u001b[2msession.py\u001b[0m\u001b]8;;\u001b\\\u001b[2m:\u001b[0m\u001b]8;id=640200;file://C:\\Users\\tochi\\anaconda3\\envs\\upwork-dev\\lib\\site-packages\\sagemaker\\session.py#4094\u001b\\\u001b[2m4094\u001b[0m\u001b]8;;\u001b\\\n",
       "\u001b[2;36m                    \u001b[0m         huggingface-pytorch-inference-\u001b[1;36m2025\u001b[0m-05-27-16-52-58-339                  \u001b[2m               \u001b[0m\n"
      ]
     },
     "metadata": {},
     "output_type": "display_data"
    },
    {
     "data": {
      "text/html": [
       "<pre style=\"white-space:pre;overflow-x:auto;line-height:normal;font-family:Menlo,'DejaVu Sans Mono',consolas,'Courier New',monospace\"><span style=\"color: #7fbfbf; text-decoration-color: #7fbfbf\">[05/27/25 11:52:59] </span><span style=\"color: #0069ff; text-decoration-color: #0069ff; font-weight: bold\">INFO    </span> Creating endpoint-config with name l14-clip-model-v1                   <a href=\"file://C:\\Users\\tochi\\anaconda3\\envs\\upwork-dev\\lib\\site-packages\\sagemaker\\session.py\" target=\"_blank\"><span style=\"color: #7f7f7f; text-decoration-color: #7f7f7f\">session.py</span></a><span style=\"color: #7f7f7f; text-decoration-color: #7f7f7f\">:</span><a href=\"file://C:\\Users\\tochi\\anaconda3\\envs\\upwork-dev\\lib\\site-packages\\sagemaker\\session.py#5889\" target=\"_blank\"><span style=\"color: #7f7f7f; text-decoration-color: #7f7f7f\">5889</span></a>\n",
       "</pre>\n"
      ],
      "text/plain": [
       "\u001b[2;36m[05/27/25 11:52:59]\u001b[0m\u001b[2;36m \u001b[0m\u001b[1;38;2;0;105;255mINFO    \u001b[0m Creating endpoint-config with name l14-clip-model-v1                   \u001b]8;id=164120;file://C:\\Users\\tochi\\anaconda3\\envs\\upwork-dev\\lib\\site-packages\\sagemaker\\session.py\u001b\\\u001b[2msession.py\u001b[0m\u001b]8;;\u001b\\\u001b[2m:\u001b[0m\u001b]8;id=668420;file://C:\\Users\\tochi\\anaconda3\\envs\\upwork-dev\\lib\\site-packages\\sagemaker\\session.py#5889\u001b\\\u001b[2m5889\u001b[0m\u001b]8;;\u001b\\\n"
      ]
     },
     "metadata": {},
     "output_type": "display_data"
    },
    {
     "data": {
      "text/html": [
       "<pre style=\"white-space:pre;overflow-x:auto;line-height:normal;font-family:Menlo,'DejaVu Sans Mono',consolas,'Courier New',monospace\"><span style=\"color: #7fbfbf; text-decoration-color: #7fbfbf\">                    </span><span style=\"color: #0069ff; text-decoration-color: #0069ff; font-weight: bold\">INFO    </span> Creating endpoint with name l14-clip-model-v1                          <a href=\"file://C:\\Users\\tochi\\anaconda3\\envs\\upwork-dev\\lib\\site-packages\\sagemaker\\session.py\" target=\"_blank\"><span style=\"color: #7f7f7f; text-decoration-color: #7f7f7f\">session.py</span></a><span style=\"color: #7f7f7f; text-decoration-color: #7f7f7f\">:</span><a href=\"file://C:\\Users\\tochi\\anaconda3\\envs\\upwork-dev\\lib\\site-packages\\sagemaker\\session.py#4711\" target=\"_blank\"><span style=\"color: #7f7f7f; text-decoration-color: #7f7f7f\">4711</span></a>\n",
       "</pre>\n"
      ],
      "text/plain": [
       "\u001b[2;36m                   \u001b[0m\u001b[2;36m \u001b[0m\u001b[1;38;2;0;105;255mINFO    \u001b[0m Creating endpoint with name l14-clip-model-v1                          \u001b]8;id=629904;file://C:\\Users\\tochi\\anaconda3\\envs\\upwork-dev\\lib\\site-packages\\sagemaker\\session.py\u001b\\\u001b[2msession.py\u001b[0m\u001b]8;;\u001b\\\u001b[2m:\u001b[0m\u001b]8;id=192550;file://C:\\Users\\tochi\\anaconda3\\envs\\upwork-dev\\lib\\site-packages\\sagemaker\\session.py#4711\u001b\\\u001b[2m4711\u001b[0m\u001b]8;;\u001b\\\n"
      ]
     },
     "metadata": {},
     "output_type": "display_data"
    },
    {
     "name": "stdout",
     "output_type": "stream",
     "text": [
      "-----!"
     ]
    }
   ],
   "source": [
    "predictor = huggingface_model.deploy(\n",
    "    serverless_inference_config=serverless_config,\n",
    "    endpoint_name=\"l14-clip-model-v1\"\n",
    ")"
   ]
  },
  {
   "cell_type": "markdown",
   "id": "8f9e3ec5-7833-4a79-926a-8e3b5d99ad93",
   "metadata": {},
   "source": [
    "### Test Deployed Endpoint"
   ]
  },
  {
   "cell_type": "code",
   "execution_count": 7,
   "id": "007d4c89-eed6-44cd-a66c-0f888a327907",
   "metadata": {},
   "outputs": [
    {
     "name": "stdout",
     "output_type": "stream",
     "text": [
      "C:\\Users\\tochi\\OneDrive\\Documents\\Upwork_Job\\clip-embedding-api\n"
     ]
    }
   ],
   "source": [
    "%cd  .."
   ]
  },
  {
   "cell_type": "code",
   "execution_count": 8,
   "id": "c0284ccb-50af-45ce-8f17-e67d5555914c",
   "metadata": {},
   "outputs": [
    {
     "name": "stdout",
     "output_type": "stream",
     "text": [
      "768\n",
      "[0.37861865758895874, -0.2048639953136444, 0.22263170778751373, -0.6245788931846619, -0.055607572197914124, -0.06229861080646515, -0.5927261710166931, 0.009563378989696503, -0.2391338348388672, -0.10730738937854767, 0.057211458683013916, 0.11848915368318558, -0.09497398883104324, 0.2676980495452881, 0.19893492758274078, 0.32281601428985596, -0.2885391414165497, -0.35819971561431885, -0.4916241765022278, 0.026667796075344086, 0.015242338180541992, 0.2755463421344757, 0.4547341763973236, 0.16531586647033691, -0.778900146484375, 0.08384381979703903, -0.4893878698348999, 0.1691056489944458, -0.253076434135437, 0.17060652375221252, -0.6237554550170898, 0.029045745730400085, 0.009264398366212845, -0.3716703951358795, 0.4490283131599426, -0.567813515663147, -0.19414737820625305, 0.3332390785217285, 0.639544665813446, 0.4740416407585144, 0.3455004096031189, -0.005832865834236145, -0.14018262922763824, 0.6296952962875366, -0.31594616174697876, 0.5030624270439148, 0.18537959456443787, 0.2746247947216034, 0.0786309614777565, 0.13974113762378693, 0.2728463411331177, -0.36491554975509644, 0.12361861765384674, -0.3608013987541199, -0.732143759727478, -0.39632320404052734, 0.28973186016082764, 0.08132946491241455, -0.3759705126285553, 0.0938824713230133, 0.06743025779724121, -0.42070645093917847, -0.17534606158733368, 0.21743234992027283, 0.393045574426651, 0.3869704604148865, -0.6493126153945923, -0.14248666167259216, 0.23104000091552734, -0.19960035383701324, -0.2691536843776703, -1.1621856689453125, 0.02265959233045578, -1.0288453102111816, 0.34191614389419556, -0.05885687470436096, -0.20438964664936066, 0.1340646743774414, 0.3530847132205963, -0.4437597990036011, 0.3533889651298523, 0.6148936152458191, -0.6421780586242676, 0.2602570950984955, 0.0519820898771286, -0.7902341485023499, 0.5356714725494385, 0.08273753523826599, -0.6312090158462524, 0.317926824092865, 0.17551647126674652, 0.12225019931793213, -0.23254545032978058, 0.6331736445426941, -0.28364917635917664, -0.06670601665973663, 0.2318497747182846, -0.45533913373947144, -0.436180055141449, 0.5098206996917725, 0.35360270738601685, 0.5041303038597107, 0.1567598581314087, 0.14223092794418335, 0.30367404222488403, -0.6405395269393921, -0.23657119274139404, -0.7646908760070801, 0.04303593933582306, 0.5171789526939392, -0.6849444508552551, 0.37898218631744385, -0.24530518054962158, -0.7034984827041626, 0.15715453028678894, -0.45988452434539795, -0.3370749056339264, -0.3011997938156128, -0.7340384721755981, 0.1646001935005188, -0.1029423177242279, 0.27710849046707153, -0.008776992559432983, 0.12461087107658386, -0.21525809168815613, -0.7252756357192993, -0.22389616072177887, -0.3667137622833252, -0.6326606273651123, 0.31405720114707947, -0.8550840020179749, 1.0314528942108154, -0.4292620122432709, 0.6086763739585876, 0.16878540813922882, -0.11983473598957062, 0.143402099609375, -0.21856454014778137, -0.33554643392562866, -0.7897878885269165, 0.3435273766517639, 0.6473281383514404, -1.0584561824798584, -0.12484830617904663, 0.03624039143323898, -0.014597505331039429, -0.5266109704971313, 0.3790653645992279, 0.1535068303346634, -0.47780680656433105, 0.7343434691429138, -0.6021027565002441, 0.21611586213111877, 0.10518912971019745, -0.18593230843544006, 0.253548800945282, -0.6415067911148071, 0.03846794366836548, 0.21357324719429016, 0.08709908276796341, -0.17168720066547394, -0.5257174372673035, -0.3753172755241394, 0.9849034547805786, 0.1222047209739685, -0.34001514315605164, 0.06286300718784332, 0.7950636148452759, -0.29955941438674927, 0.25763142108917236, 0.03817836940288544, -0.49642372131347656, 0.3275241255760193, -0.2546817362308502, -0.08277107775211334, 0.2835460901260376, 0.3159884214401245, 1.6356910467147827, 0.15608730912208557, -0.2655656933784485, 2.0513322353363037, -0.21912869811058044, -0.26734817028045654, 0.24048931896686554, 0.17106658220291138, 0.312235027551651, 0.6347159743309021, 0.2838548421859741, -0.010877043008804321, 0.12434425950050354, -0.346616268157959, 0.6076952815055847, 0.31044119596481323, 0.8162978291511536, 0.10595519840717316, -1.1461420059204102, -0.20862716436386108, 0.20999714732170105, 0.2656347155570984, -0.31834664940834045, 0.06790560483932495, -1.0468727350234985, 0.6028701066970825, 0.43404677510261536, 0.009395971894264221, 0.11737047880887985, 0.2052445411682129, 0.10712870955467224, -0.7268685102462769, -0.18768468499183655, 0.24786412715911865, -0.5154464244842529, 0.07689365744590759, -0.07088640332221985, 0.08860478550195694, 0.014419123530387878, 0.3788270354270935, 0.6838150024414062, 0.11711359024047852, 0.7443270087242126, -0.4467511475086212, 0.37771931290626526, 0.40685951709747314, -0.7872137427330017, 0.2550358176231384, -0.38333624601364136, -0.2731144428253174, 0.45474714040756226, 0.7166738510131836, -0.7998855113983154, 0.24115507304668427, 0.6540502309799194, -0.33582907915115356, 0.39529502391815186, 0.14126375317573547, 0.010464370250701904, 0.6368396878242493, 0.5152567625045776, -0.9033058881759644, 0.8579403758049011, -0.562907874584198, 0.038390956819057465, 0.07824872434139252, 0.375958114862442, -0.36163297295570374, 0.5342215895652771, -0.07181301712989807, 0.277889221906662, 0.5742031335830688, 0.11002880334854126, 0.06173445284366608, -0.40341171622276306, -1.3020410537719727, 0.11739309132099152, -0.3034099340438843, 0.5521568059921265, -0.006197452545166016, 0.6745729446411133, -0.8091182708740234, 0.4323709011077881, 0.05354563891887665, -1.090405821800232, -0.2724303603172302, 0.3817931115627289, -0.10403050482273102, -0.018093638122081757, 0.3598141074180603, -0.1395149528980255, 0.35356584191322327, -0.5353820323944092, 0.22286376357078552, -0.8785926103591919, 0.06818734854459763, 0.3533567786216736, -0.06973768770694733, -0.061552904546260834, -0.2269309163093567, 0.0544092059135437, 0.25014400482177734, -0.12258842587471008, 0.22043398022651672, -0.9215748906135559, -0.3702150583267212, 0.6694445610046387, 0.12403818964958191, 0.185558021068573, 0.40219810605049133, 0.4230552911758423, -0.8895722031593323, 0.1281050741672516, -0.009265244007110596, 0.3858274221420288, -0.18354904651641846, -0.20443032681941986, 0.19618521630764008, 0.6091077923774719, 0.21771357953548431, -0.706626296043396, 0.4272441267967224, 0.22964851558208466, 0.5971283912658691, -0.04607343673706055, -0.25920453667640686, -0.35887977480888367, 0.27751097083091736, 0.525597095489502, -0.436043918132782, -0.6281196475028992, -0.5124505758285522, -0.35191619396209717, 1.0263710021972656, -0.3550037741661072, -0.647087037563324, 0.09741014242172241, -0.09051230549812317, 0.049023061990737915, -0.5472777485847473, 0.22619383037090302, -0.04052434861660004, -0.3600757122039795, 0.007026046514511108, -0.22002872824668884, -0.673008143901825, 0.25879770517349243, -0.5321840047836304, -0.508554220199585, -0.5066155195236206, -0.3109825849533081, 0.22401300072669983, 0.6640363335609436, 1.295844554901123, -0.5126148462295532, -0.46338385343551636, 0.13287708163261414, 0.2621213495731354, -0.23566032946109772, 0.06596779823303223, -1.0000287294387817, -0.25093117356300354, 0.40540701150894165, -1.2257121801376343, -0.024365678429603577, 0.39113500714302063, -1.0220812559127808, -0.2831394076347351, 0.4457651376724243, 0.07245674729347229, -0.747349739074707, 0.41327518224716187, -0.6449074149131775, 0.7893887162208557, 0.3542080819606781, -0.6031004190444946, -0.861303448677063, 0.33973532915115356, 0.041121706366539, -0.11440308392047882, 0.37477946281433105, -0.12678584456443787, -0.39013671875, -0.007427319884300232, -0.054385263472795486, -1.1447110176086426, 1.0571635961532593, -0.3336859345436096, -0.17420420050621033, -0.32149064540863037, -0.19880862534046173, 0.5227063894271851, -0.017724566161632538, -0.5794637799263, -0.7499817609786987, -0.5171241164207458, 0.15536965429782867, -0.2244335412979126, -0.01082313060760498, -0.15304972231388092, -0.1308305710554123, 0.1307421326637268, 0.13914400339126587, 0.9212222099304199, 0.5176861882209778, 0.5542813539505005, -0.8998674750328064, 0.38448044657707214, -1.4078947305679321, 0.9121028780937195, 0.09076522290706635, 0.2109663188457489, -0.3252379596233368, -0.052341461181640625, -0.08441507816314697, 0.16827963292598724, 0.31617942452430725, 0.4456269145011902, -0.21869969367980957, -0.6260281205177307, -0.5699330568313599, -0.5320882201194763, -0.277335524559021, 0.4125324785709381, -0.27768391370773315, -0.5544054508209229, 0.44881775975227356, -0.9924513101577759, 0.035920947790145874, -0.209259033203125, -0.12008760869503021, -0.2081349492073059, -0.5107089281082153, -0.2897260785102844, 0.496893048286438, -0.3424559235572815, -6.865653038024902, 0.15720924735069275, -0.06308743357658386, 0.27086976170539856, 0.3354921042919159, 0.9173758029937744, -0.2770504355430603, 0.36315250396728516, 0.054090261459350586, -0.8119812607765198, 0.16468305885791779, 0.24444013833999634, 0.14730767905712128, 0.22778424620628357, -0.008333541452884674, 0.34597358107566833, 0.36374521255493164, 0.2394217550754547, -0.14313045144081116, -0.15947596728801727, 0.035539865493774414, -1.3614842891693115, 0.4120996594429016, 0.2686697244644165, -0.055987648665905, 0.3801916241645813, -0.18210163712501526, 0.4857628047466278, 0.3245692253112793, -0.4466330409049988, -0.423886775970459, 1.229033350944519, 0.43438252806663513, -1.4860894680023193, -0.5994353890419006, -0.22584611177444458, 0.2779020667076111, -1.0372411012649536, -0.08493971824645996, 0.8713468313217163, 0.04461471736431122, 0.1726435422897339, 0.274650901556015, 0.20132046937942505, -0.26659396290779114, 0.2835642397403717, -0.1184561550617218, 0.5229970216751099, 0.05056193470954895, -0.2995304465293884, -3.013491630554199, 0.6810421943664551, 0.25210726261138916, -0.35475003719329834, 0.3430492877960205, -0.19050203263759613, -0.8153533339500427, 0.46470239758491516, 0.457004189491272, 0.19590893387794495, -0.1281648874282837, -0.27742499113082886, -0.7942421436309814, 0.29053229093551636, 0.2201339304447174, 0.4600748121738434, 0.032685041427612305, -0.20793679356575012, -0.3812900185585022, 0.24446797370910645, -0.41784948110580444, -0.2195236086845398, -0.13576233386993408, 0.6216896176338196, 0.1150335967540741, 0.11160574853420258, -0.6772640347480774, 0.4432010054588318, -1.0230941772460938, -0.2561013102531433, -0.35454073548316956, -1.1770503520965576, 0.14194145798683167, 0.00974234938621521, 0.49469518661499023, 0.3326701819896698, -0.05986800789833069, 0.2834014296531677, -0.024946004152297974, 0.2930755913257599, 0.05806896090507507, 0.3248012065887451, -0.37737834453582764, 0.31869733333587646, 0.5446146726608276, -0.926876962184906, 0.7080885767936707, -0.2069910317659378, 0.42989468574523926, -0.8453377485275269, -0.7074429392814636, 0.14780806005001068, -0.16864466667175293, 0.9830950498580933, -0.3991912007331848, -0.3354542851448059, -0.22852663695812225, 0.06751246750354767, 0.014866381883621216, 0.25056684017181396, 0.24443677067756653, -0.19013118743896484, -0.7242976427078247, -0.29717329144477844, -0.07475417852401733, -1.1613430976867676, -0.22284160554409027, 0.07130198925733566, 0.633694052696228, 0.03469392657279968, 0.626609742641449, 0.30560311675071716, 0.13431571424007416, -0.49774229526519775, 0.6179642677307129, 0.5298833847045898, -0.7913976311683655, 0.8581691384315491, -0.2476981282234192, -0.10945110023021698, -0.3256340026855469, -0.04774606227874756, -0.21050240099430084, -0.016716718673706055, 0.3514123260974884, 0.580094039440155, -0.6069335341453552, 0.45856010913848877, -0.43594104051589966, -0.08550066500902176, 0.45500409603118896, 0.061096541583538055, 0.18659602105617523, -0.5642313361167908, 0.4372499883174896, 0.11100000143051147, -1.111525297164917, -1.2250767946243286, 0.4524473547935486, -0.6492050290107727, 0.18931502103805542, -0.22759631276130676, -0.7711377739906311, -0.3010261058807373, -0.4292464852333069, 0.5663608312606812, -0.17249375581741333, -0.050898343324661255, 0.4923432767391205, 0.2099691480398178, 0.09240111708641052, -0.047443076968193054, 0.33642032742500305, -0.3278011381626129, 0.3201620578765869, -0.19187389314174652, -0.23993052542209625, -0.7858480215072632, -0.33297470211982727, -0.9854885339736938, 0.22002831101417542, -0.10751211643218994, -0.1627482920885086, -0.005032405257225037, 0.516342282295227, -0.10011798143386841, 0.4697410464286804, 0.46690958738327026, -0.2641580104827881, -0.6272510290145874, -0.6547389626502991, -0.20653954148292542, 0.0553896427154541, -0.5032886862754822, -0.5568437576293945, 0.084148108959198, 0.1370680034160614, -0.1803586333990097, 0.3436139225959778, -0.3883357644081116, 0.1517914980649948, 0.1450464129447937, -0.007749803364276886, -0.3792317807674408, -0.38170814514160156, -0.2480676770210266, 0.3856714069843292, 0.24511443078517914, 1.1124070882797241, -1.0951027870178223, 0.2798684537410736, -0.1527707576751709, -1.3174784183502197, 1.1810967922210693, 0.5009945631027222, 0.1344437450170517, -0.7944480180740356, 0.16140592098236084, -0.2745942175388336, 0.057407766580581665, -0.07775191962718964, -1.0275661945343018, 0.6103584170341492, -0.045988649129867554, -0.15222153067588806, 0.4097631573677063, 1.0063031911849976, -0.3099495768547058, 0.18030868470668793, -0.3113209307193756, 0.09983096271753311, 0.465474396944046, 0.26425787806510925, 0.020122170448303223, -0.4432176947593689, 0.35538285970687866, -0.051637232303619385, 0.12340547144412994, -0.0040838271379470825, -0.33363693952560425, -0.3021087050437927, 7.340435981750488, -0.32069164514541626, 0.11834663152694702, 0.4846726953983307, -0.14820867776870728, 0.15490716695785522, -0.07647223770618439, -0.2613362967967987, -0.01699031889438629, 0.002914130687713623, -0.07793667167425156, -0.23895302414894104, -0.6520546078681946, 1.1224584579467773, 0.09175783395767212, -0.5836361646652222, 0.10641224682331085, 0.09558509290218353, -0.4059469699859619, 0.026495561003684998, 0.7324792742729187, -0.10029037296772003, 0.3322216868400574, -0.0800531655550003, 1.04585599899292, 0.6556806564331055, 0.38663849234580994, 0.5294342041015625, -0.05418172478675842, -0.44200941920280457, 0.3290407359600067, 0.23660339415073395, -0.6301915645599365, 0.5479884743690491, -1.158316731452942, 0.06339524686336517, 0.1157798022031784, 0.3481685519218445, -0.4338192343711853, 0.2062825858592987, 0.10895350575447083, -0.5813155770301819, 0.2024475336074829, 0.03461608290672302, -0.46152162551879883, 0.2947509288787842, 0.28453078866004944, 0.9218000173568726, 1.4800673723220825, 0.0012441501021385193, -0.6030141115188599, -0.01391822099685669, -0.6587399840354919, 0.04113228619098663, 0.5243040919303894, -0.3327026069164276, -0.4469422698020935, 0.37222427129745483, 0.012800291180610657, -1.5509064197540283, 0.6114815473556519, -0.17317873239517212, -0.20790427923202515, 0.3839658498764038, -0.5287683010101318, 0.11995713412761688, 0.27356746792793274, 1.2746012210845947, 0.1052248477935791, 0.6765926480293274, -0.1538189947605133, 0.09407932311296463, 0.4462970197200775, 0.7592371106147766, 0.3643798232078552, 0.24719280004501343, 0.5043725967407227, 0.43395546078681946, 0.16963614523410797, -1.72096848487854, 0.4515915513038635, 0.14560319483280182, -0.10489478707313538, 0.007285207509994507, -0.11018553376197815, 0.5243507623672485, 0.4242694079875946, -0.3201664090156555, -0.31389319896698, -0.13507673144340515, -0.272746741771698, -0.11810770630836487, 0.6430303454399109, -0.40542227029800415, -0.08241713047027588, -0.20724448561668396, 0.17633657157421112, -0.20529061555862427, -0.05963617563247681, -0.3343949317932129, -0.16142410039901733, 0.25659412145614624, 0.42107337713241577, -1.3466640710830688, 0.43025004863739014, -0.23144693672657013, -0.09810037910938263, -0.5170977115631104, 0.35114216804504395, 0.6599397659301758, -0.4200594127178192, -0.2938371002674103, 0.7392719984054565, -0.6321352124214172, -0.08719247579574585, -0.4052332043647766, -1.4042308330535889, -0.2642475366592407, -0.8641397953033447, -0.7995219826698303, -0.13182902336120605, 0.6662657260894775, -0.6492915749549866, 0.18140211701393127]\n"
     ]
    }
   ],
   "source": [
    "# Prepare base64 encoded image\n",
    "import base64\n",
    "\n",
    "# Load an image (make sure to use an RGB image like PNG or JPG)\n",
    "with open(\"aws_login.png\", \"rb\") as image_file:\n",
    "    encoded_image = base64.b64encode(image_file.read()).decode('utf-8')\n",
    "\n",
    "# Define payload with base64 image\n",
    "data = {\n",
    "  \"inputs\": {\n",
    "    \"image\": encoded_image\n",
    "  }\n",
    "}\n",
    "\n",
    "# Send prediction request to endpoint\n",
    "response = predictor.predict(data)\n",
    "print(len(response))\n",
    "print(response)"
   ]
  },
  {
   "cell_type": "markdown",
   "id": "2b5b907d-7f98-4bb9-9dab-e571dc0f3184",
   "metadata": {},
   "source": [
    "### Test APIgateway Endpoint"
   ]
  },
  {
   "cell_type": "code",
   "execution_count": null,
   "id": "d6fb7436-886e-4a51-93ac-ffd87f6f911f",
   "metadata": {},
   "outputs": [],
   "source": [
    "import requests\n",
    "import json\n",
    "\n",
    "endpoint_url = \"https://kbke5izmza.execute-api.us-east-1.amazonaws.com/prod/invokel14\"\n",
    "\n",
    "# Choose either text or base64-encoded image payload\n",
    "payload = {\n",
    "    \"text\": \"This is a test input for embedding generation.\",\n",
    "    \"model\": \"L-14 model\"\n",
    "}\n",
    "\n",
    "headers = {\n",
    "    \"Content-Type\": \"application/json\"\n",
    "}\n",
    "\n",
    "response = requests.post(endpoint_url, headers=headers, data=json.dumps(payload))\n",
    "\n",
    "# Print response\n",
    "print(\"Status Code:\", response.status_code)\n",
    "print(\"Response JSON:\", response.json())"
   ]
  },
  {
   "cell_type": "code",
   "execution_count": null,
   "id": "da3fc4b4-b7e4-4752-aa25-ca07b688d26a",
   "metadata": {},
   "outputs": [],
   "source": []
  }
 ],
 "metadata": {
  "kernelspec": {
   "display_name": "upwork-dev",
   "language": "python",
   "name": "upwork-dev"
  },
  "language_info": {
   "codemirror_mode": {
    "name": "ipython",
    "version": 3
   },
   "file_extension": ".py",
   "mimetype": "text/x-python",
   "name": "python",
   "nbconvert_exporter": "python",
   "pygments_lexer": "ipython3",
   "version": "3.10.14"
  }
 },
 "nbformat": 4,
 "nbformat_minor": 5
}
