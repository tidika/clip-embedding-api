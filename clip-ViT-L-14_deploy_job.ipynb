{
 "cells": [
  {
   "cell_type": "markdown",
   "id": "2e30d709-2234-4e1a-afd1-846239464a37",
   "metadata": {},
   "source": [
    "This notebook contains code to download the CLIP-ViT-L-14 model from Hugging Face and deploy it to a SageMaker serverless endpoint."
   ]
  },
  {
   "cell_type": "markdown",
   "id": "d0b88abc-c5be-4ef0-9aed-997fdea49a74",
   "metadata": {},
   "source": [
    "### Download  CLIP-ViT-L-14 model"
   ]
  },
  {
   "cell_type": "code",
   "execution_count": 1,
   "id": "d9217686-2b99-4ff0-ba5b-a321143aa1cf",
   "metadata": {},
   "outputs": [
    {
     "name": "stderr",
     "output_type": "stream",
     "text": [
      "C:\\Users\\tochi\\anaconda3\\envs\\upwork-dev\\lib\\site-packages\\tqdm\\auto.py:21: TqdmWarning: IProgress not found. Please update jupyter and ipywidgets. See https://ipywidgets.readthedocs.io/en/stable/user_install.html\n",
      "  from .autonotebook import tqdm as notebook_tqdm\n",
      "Fetching 12 files: 100%|█████████████████████████████████████████████| 12/12 [00:30<00:00,  2.50s/it]\n"
     ]
    },
    {
     "data": {
      "text/plain": [
       "'C:\\\\Users\\\\tochi\\\\OneDrive\\\\Documents\\\\Upwork_Job\\\\clip-embedding-api\\\\CLIP-ViT-L-14'"
      ]
     },
     "execution_count": 1,
     "metadata": {},
     "output_type": "execute_result"
    }
   ],
   "source": [
    "from huggingface_hub import snapshot_download\n",
    "\n",
    "snapshot_download(repo_id=\"sentence-transformers/clip-ViT-L-14\", local_dir=\"./CLIP-ViT-L-14\")\n"
   ]
  },
  {
   "cell_type": "markdown",
   "id": "0517bc80-7811-4e9f-8941-fb5a6a252f5e",
   "metadata": {},
   "source": [
    "### Package and Upload CLIP-ViT-L-14 model to s3 bucket"
   ]
  },
  {
   "cell_type": "code",
   "execution_count": 1,
   "id": "7e04a7d9-37b2-4acc-aac7-6207d40ebaac",
   "metadata": {},
   "outputs": [
    {
     "name": "stdout",
     "output_type": "stream",
     "text": [
      "C:\\Users\\tochi\\OneDrive\\Documents\\Upwork_Job\\clip-embedding-api\\CLIP-ViT-L-14\n"
     ]
    },
    {
     "name": "stderr",
     "output_type": "stream",
     "text": [
      "a .cache\n",
      "a .gitattributes\n",
      "a 0_CLIPModel\n",
      "a code\n",
      "a config_sentence_transformers.json\n",
      "a model.tar.gz\n",
      "a modules.json\n",
      "a README.md\n",
      "a code/.ipynb_checkpoints\n",
      "a code/inference.py\n",
      "a code/requirements.txt\n",
      "a code/.ipynb_checkpoints/inference-checkpoint.py\n",
      "a code/.ipynb_checkpoints/requirements-checkpoint.txt\n",
      "a 0_CLIPModel/config.json\n",
      "a 0_CLIPModel/merges.txt\n",
      "a 0_CLIPModel/preprocessor_config.json\n",
      "a 0_CLIPModel/pytorch_model.bin\n",
      "a 0_CLIPModel/special_tokens_map.json\n",
      "a 0_CLIPModel/tokenizer.json\n",
      "a 0_CLIPModel/tokenizer_config.json\n",
      "a 0_CLIPModel/vocab.json\n",
      "a .cache/huggingface\n",
      "a .cache/huggingface/.gitignore\n",
      "a .cache/huggingface/download\n",
      "a .cache/huggingface/download/.gitattributes.metadata\n",
      "a .cache/huggingface/download/0_CLIPModel\n",
      "a .cache/huggingface/download/config_sentence_transformers.json.metadata\n",
      "a .cache/huggingface/download/modules.json.metadata\n",
      "a .cache/huggingface/download/README.md.metadata\n",
      "a .cache/huggingface/download/0_CLIPModel/config.json.metadata\n",
      "a .cache/huggingface/download/0_CLIPModel/merges.txt.metadata\n",
      "a .cache/huggingface/download/0_CLIPModel/preprocessor_config.json.metadata\n",
      "a .cache/huggingface/download/0_CLIPModel/pytorch_model.bin.metadata\n",
      "a .cache/huggingface/download/0_CLIPModel/special_tokens_map.json.metadata\n",
      "a .cache/huggingface/download/0_CLIPModel/tokenizer.json.metadata\n",
      "a .cache/huggingface/download/0_CLIPModel/tokenizer_config.json.metadata\n",
      "a .cache/huggingface/download/0_CLIPModel/vocab.json.metadata\n"
     ]
    }
   ],
   "source": [
    "%cd  CLIP-ViT-L-14\n",
    "!tar --exclude='.cache' -zcvf model.tar.gz *"
   ]
  },
  {
   "cell_type": "code",
   "execution_count": 2,
   "id": "af86b28c-c872-49b9-9d78-76a86cda0687",
   "metadata": {},
   "outputs": [
    {
     "name": "stderr",
     "output_type": "stream",
     "text": [
      "C:\\Users\\tochi\\anaconda3\\envs\\upwork-dev\\lib\\site-packages\\pydantic\\_internal\\_fields.py:172: UserWarning: Field name \"json\" in \"MonitoringDatasetFormat\" shadows an attribute in parent \"Base\"\n",
      "  warnings.warn(\n"
     ]
    },
    {
     "data": {
      "text/html": [
       "<pre style=\"white-space:pre;overflow-x:auto;line-height:normal;font-family:Menlo,'DejaVu Sans Mono',consolas,'Courier New',monospace\"><span style=\"color: #7fbfbf; text-decoration-color: #7fbfbf\">[05/27/25 11:49:48] </span><span style=\"color: #0069ff; text-decoration-color: #0069ff; font-weight: bold\">INFO    </span> Found credentials in shared credentials file: ~<span style=\"color: #e100e1; text-decoration-color: #e100e1\">/.aws/credentials</span>   <a href=\"file://C:\\Users\\tochi\\anaconda3\\envs\\upwork-dev\\lib\\site-packages\\botocore\\credentials.py\" target=\"_blank\"><span style=\"color: #7f7f7f; text-decoration-color: #7f7f7f\">credentials.py</span></a><span style=\"color: #7f7f7f; text-decoration-color: #7f7f7f\">:</span><a href=\"file://C:\\Users\\tochi\\anaconda3\\envs\\upwork-dev\\lib\\site-packages\\botocore\\credentials.py#1278\" target=\"_blank\"><span style=\"color: #7f7f7f; text-decoration-color: #7f7f7f\">1278</span></a>\n",
       "</pre>\n"
      ],
      "text/plain": [
       "\u001b[2;36m[05/27/25 11:49:48]\u001b[0m\u001b[2;36m \u001b[0m\u001b[1;38;2;0;105;255mINFO    \u001b[0m Found credentials in shared credentials file: ~\u001b[38;2;225;0;225m/.aws/\u001b[0m\u001b[38;2;225;0;225mcredentials\u001b[0m   \u001b]8;id=129411;file://C:\\Users\\tochi\\anaconda3\\envs\\upwork-dev\\lib\\site-packages\\botocore\\credentials.py\u001b\\\u001b[2mcredentials.py\u001b[0m\u001b]8;;\u001b\\\u001b[2m:\u001b[0m\u001b]8;id=977432;file://C:\\Users\\tochi\\anaconda3\\envs\\upwork-dev\\lib\\site-packages\\botocore\\credentials.py#1278\u001b\\\u001b[2m1278\u001b[0m\u001b]8;;\u001b\\\n"
      ]
     },
     "metadata": {},
     "output_type": "display_data"
    },
    {
     "name": "stdout",
     "output_type": "stream",
     "text": [
      "sagemaker.config INFO - Not applying SDK defaults from location: C:\\ProgramData\\sagemaker\\sagemaker\\config.yaml\n",
      "sagemaker.config INFO - Not applying SDK defaults from location: C:\\Users\\tochi\\AppData\\Local\\sagemaker\\sagemaker\\config.yaml\n"
     ]
    },
    {
     "data": {
      "text/html": [
       "<pre style=\"white-space:pre;overflow-x:auto;line-height:normal;font-family:Menlo,'DejaVu Sans Mono',consolas,'Courier New',monospace\"><span style=\"color: #7fbfbf; text-decoration-color: #7fbfbf\">[05/27/25 11:49:49] </span><span style=\"color: #0069ff; text-decoration-color: #0069ff; font-weight: bold\">INFO    </span> Found credentials in shared credentials file: ~<span style=\"color: #e100e1; text-decoration-color: #e100e1\">/.aws/credentials</span>   <a href=\"file://C:\\Users\\tochi\\anaconda3\\envs\\upwork-dev\\lib\\site-packages\\botocore\\credentials.py\" target=\"_blank\"><span style=\"color: #7f7f7f; text-decoration-color: #7f7f7f\">credentials.py</span></a><span style=\"color: #7f7f7f; text-decoration-color: #7f7f7f\">:</span><a href=\"file://C:\\Users\\tochi\\anaconda3\\envs\\upwork-dev\\lib\\site-packages\\botocore\\credentials.py#1278\" target=\"_blank\"><span style=\"color: #7f7f7f; text-decoration-color: #7f7f7f\">1278</span></a>\n",
       "</pre>\n"
      ],
      "text/plain": [
       "\u001b[2;36m[05/27/25 11:49:49]\u001b[0m\u001b[2;36m \u001b[0m\u001b[1;38;2;0;105;255mINFO    \u001b[0m Found credentials in shared credentials file: ~\u001b[38;2;225;0;225m/.aws/\u001b[0m\u001b[38;2;225;0;225mcredentials\u001b[0m   \u001b]8;id=971867;file://C:\\Users\\tochi\\anaconda3\\envs\\upwork-dev\\lib\\site-packages\\botocore\\credentials.py\u001b\\\u001b[2mcredentials.py\u001b[0m\u001b]8;;\u001b\\\u001b[2m:\u001b[0m\u001b]8;id=662478;file://C:\\Users\\tochi\\anaconda3\\envs\\upwork-dev\\lib\\site-packages\\botocore\\credentials.py#1278\u001b\\\u001b[2m1278\u001b[0m\u001b]8;;\u001b\\\n"
      ]
     },
     "metadata": {},
     "output_type": "display_data"
    },
    {
     "data": {
      "text/html": [
       "<pre style=\"white-space:pre;overflow-x:auto;line-height:normal;font-family:Menlo,'DejaVu Sans Mono',consolas,'Courier New',monospace\"><span style=\"color: #7fbfbf; text-decoration-color: #7fbfbf\">                    </span><span style=\"color: #0069ff; text-decoration-color: #0069ff; font-weight: bold\">INFO    </span> Found credentials in shared credentials file: ~<span style=\"color: #e100e1; text-decoration-color: #e100e1\">/.aws/credentials</span>   <a href=\"file://C:\\Users\\tochi\\anaconda3\\envs\\upwork-dev\\lib\\site-packages\\botocore\\credentials.py\" target=\"_blank\"><span style=\"color: #7f7f7f; text-decoration-color: #7f7f7f\">credentials.py</span></a><span style=\"color: #7f7f7f; text-decoration-color: #7f7f7f\">:</span><a href=\"file://C:\\Users\\tochi\\anaconda3\\envs\\upwork-dev\\lib\\site-packages\\botocore\\credentials.py#1278\" target=\"_blank\"><span style=\"color: #7f7f7f; text-decoration-color: #7f7f7f\">1278</span></a>\n",
       "</pre>\n"
      ],
      "text/plain": [
       "\u001b[2;36m                   \u001b[0m\u001b[2;36m \u001b[0m\u001b[1;38;2;0;105;255mINFO    \u001b[0m Found credentials in shared credentials file: ~\u001b[38;2;225;0;225m/.aws/\u001b[0m\u001b[38;2;225;0;225mcredentials\u001b[0m   \u001b]8;id=918720;file://C:\\Users\\tochi\\anaconda3\\envs\\upwork-dev\\lib\\site-packages\\botocore\\credentials.py\u001b\\\u001b[2mcredentials.py\u001b[0m\u001b]8;;\u001b\\\u001b[2m:\u001b[0m\u001b]8;id=717400;file://C:\\Users\\tochi\\anaconda3\\envs\\upwork-dev\\lib\\site-packages\\botocore\\credentials.py#1278\u001b\\\u001b[2m1278\u001b[0m\u001b]8;;\u001b\\\n"
      ]
     },
     "metadata": {},
     "output_type": "display_data"
    }
   ],
   "source": [
    "import sagemaker\n",
    "import boto3\n",
    "\n",
    "sess = sagemaker.Session()\n",
    "account = boto3.client(\"sts\").get_caller_identity().get(\"Account\")\n",
    "role = f\"arn:aws:iam::{account}:role/service-role/AmazonSageMakerServiceCatalogProductsUseRole\""
   ]
  },
  {
   "cell_type": "code",
   "execution_count": 3,
   "id": "41fd4939-9c95-4d77-8656-9d7a1b53655e",
   "metadata": {},
   "outputs": [
    {
     "name": "stdout",
     "output_type": "stream",
     "text": [
      "S3 Model Path: s3://huggingface-clip-models/CLIP-ViT-L-14/model.tar.gz\n"
     ]
    }
   ],
   "source": [
    "bucket = \"huggingface-clip-models\"\n",
    "model_artifact = sess.upload_data(\"model.tar.gz\", bucket=bucket, key_prefix=\"CLIP-ViT-L-14\")\n",
    "print(\"S3 Model Path:\", model_artifact)"
   ]
  },
  {
   "cell_type": "markdown",
   "id": "d7f8e704-84f3-45e5-a496-9c049c66cbb3",
   "metadata": {},
   "source": [
    "### Create a Sagemaker Huggingface Model"
   ]
  },
  {
   "cell_type": "code",
   "execution_count": 4,
   "id": "9ce319bc-9a5c-40f0-95e2-68176431a063",
   "metadata": {},
   "outputs": [],
   "source": [
    "from sagemaker.huggingface.model import HuggingFaceModel\n",
    "\n",
    "# Create Hugging Face Model Class\n",
    "huggingface_model = HuggingFaceModel(\n",
    "   model_data = model_artifact,\n",
    "   role=role,                                          \n",
    "   transformers_version=\"4.26\",                          \n",
    "   pytorch_version=\"1.13\",                              \n",
    "   py_version='py39',\n",
    "   env={\"HF_TASK\": \"feature-extraction\"}\n",
    "    \n",
    ")"
   ]
  },
  {
   "cell_type": "code",
   "execution_count": 5,
   "id": "98429651-03f9-47c5-af44-118900578e31",
   "metadata": {},
   "outputs": [],
   "source": [
    "from sagemaker.serverless import ServerlessInferenceConfig\n",
    "\n",
    "# Define serverless configuration\n",
    "serverless_config = ServerlessInferenceConfig(\n",
    "    memory_size_in_mb=5120,\n",
    "    max_concurrency=5       \n",
    ")"
   ]
  },
  {
   "cell_type": "code",
   "execution_count": 6,
   "id": "44a294a1-9ed9-4cd3-8db5-d15c510dd56c",
   "metadata": {},
   "outputs": [
    {
     "data": {
      "text/html": [
       "<pre style=\"white-space:pre;overflow-x:auto;line-height:normal;font-family:Menlo,'DejaVu Sans Mono',consolas,'Courier New',monospace\"><span style=\"color: #7fbfbf; text-decoration-color: #7fbfbf\">[05/27/25 11:52:56] </span><span style=\"color: #0069ff; text-decoration-color: #0069ff; font-weight: bold\">INFO    </span> Defaulting to CPU type when using serverless inference               <a href=\"file://C:\\Users\\tochi\\anaconda3\\envs\\upwork-dev\\lib\\site-packages\\sagemaker\\image_uris.py\" target=\"_blank\"><span style=\"color: #7f7f7f; text-decoration-color: #7f7f7f\">image_uris.py</span></a><span style=\"color: #7f7f7f; text-decoration-color: #7f7f7f\">:</span><a href=\"file://C:\\Users\\tochi\\anaconda3\\envs\\upwork-dev\\lib\\site-packages\\sagemaker\\image_uris.py#536\" target=\"_blank\"><span style=\"color: #7f7f7f; text-decoration-color: #7f7f7f\">536</span></a>\n",
       "</pre>\n"
      ],
      "text/plain": [
       "\u001b[2;36m[05/27/25 11:52:56]\u001b[0m\u001b[2;36m \u001b[0m\u001b[1;38;2;0;105;255mINFO    \u001b[0m Defaulting to CPU type when using serverless inference               \u001b]8;id=365935;file://C:\\Users\\tochi\\anaconda3\\envs\\upwork-dev\\lib\\site-packages\\sagemaker\\image_uris.py\u001b\\\u001b[2mimage_uris.py\u001b[0m\u001b]8;;\u001b\\\u001b[2m:\u001b[0m\u001b]8;id=336841;file://C:\\Users\\tochi\\anaconda3\\envs\\upwork-dev\\lib\\site-packages\\sagemaker\\image_uris.py#536\u001b\\\u001b[2m536\u001b[0m\u001b]8;;\u001b\\\n"
      ]
     },
     "metadata": {},
     "output_type": "display_data"
    },
    {
     "data": {
      "text/html": [
       "<pre style=\"white-space:pre;overflow-x:auto;line-height:normal;font-family:Menlo,'DejaVu Sans Mono',consolas,'Courier New',monospace\"><span style=\"color: #7fbfbf; text-decoration-color: #7fbfbf\">[05/27/25 11:52:58] </span><span style=\"color: #0069ff; text-decoration-color: #0069ff; font-weight: bold\">INFO    </span> Creating model with name:                                              <a href=\"file://C:\\Users\\tochi\\anaconda3\\envs\\upwork-dev\\lib\\site-packages\\sagemaker\\session.py\" target=\"_blank\"><span style=\"color: #7f7f7f; text-decoration-color: #7f7f7f\">session.py</span></a><span style=\"color: #7f7f7f; text-decoration-color: #7f7f7f\">:</span><a href=\"file://C:\\Users\\tochi\\anaconda3\\envs\\upwork-dev\\lib\\site-packages\\sagemaker\\session.py#4094\" target=\"_blank\"><span style=\"color: #7f7f7f; text-decoration-color: #7f7f7f\">4094</span></a>\n",
       "<span style=\"color: #7fbfbf; text-decoration-color: #7fbfbf\">                    </span>         huggingface-pytorch-inference-<span style=\"color: #008080; text-decoration-color: #008080; font-weight: bold\">2025</span>-05-27-16-52-58-339                  <span style=\"color: #7f7f7f; text-decoration-color: #7f7f7f\">               </span>\n",
       "</pre>\n"
      ],
      "text/plain": [
       "\u001b[2;36m[05/27/25 11:52:58]\u001b[0m\u001b[2;36m \u001b[0m\u001b[1;38;2;0;105;255mINFO    \u001b[0m Creating model with name:                                              \u001b]8;id=896173;file://C:\\Users\\tochi\\anaconda3\\envs\\upwork-dev\\lib\\site-packages\\sagemaker\\session.py\u001b\\\u001b[2msession.py\u001b[0m\u001b]8;;\u001b\\\u001b[2m:\u001b[0m\u001b]8;id=640200;file://C:\\Users\\tochi\\anaconda3\\envs\\upwork-dev\\lib\\site-packages\\sagemaker\\session.py#4094\u001b\\\u001b[2m4094\u001b[0m\u001b]8;;\u001b\\\n",
       "\u001b[2;36m                    \u001b[0m         huggingface-pytorch-inference-\u001b[1;36m2025\u001b[0m-05-27-16-52-58-339                  \u001b[2m               \u001b[0m\n"
      ]
     },
     "metadata": {},
     "output_type": "display_data"
    },
    {
     "data": {
      "text/html": [
       "<pre style=\"white-space:pre;overflow-x:auto;line-height:normal;font-family:Menlo,'DejaVu Sans Mono',consolas,'Courier New',monospace\"><span style=\"color: #7fbfbf; text-decoration-color: #7fbfbf\">[05/27/25 11:52:59] </span><span style=\"color: #0069ff; text-decoration-color: #0069ff; font-weight: bold\">INFO    </span> Creating endpoint-config with name l14-clip-model-v1                   <a href=\"file://C:\\Users\\tochi\\anaconda3\\envs\\upwork-dev\\lib\\site-packages\\sagemaker\\session.py\" target=\"_blank\"><span style=\"color: #7f7f7f; text-decoration-color: #7f7f7f\">session.py</span></a><span style=\"color: #7f7f7f; text-decoration-color: #7f7f7f\">:</span><a href=\"file://C:\\Users\\tochi\\anaconda3\\envs\\upwork-dev\\lib\\site-packages\\sagemaker\\session.py#5889\" target=\"_blank\"><span style=\"color: #7f7f7f; text-decoration-color: #7f7f7f\">5889</span></a>\n",
       "</pre>\n"
      ],
      "text/plain": [
       "\u001b[2;36m[05/27/25 11:52:59]\u001b[0m\u001b[2;36m \u001b[0m\u001b[1;38;2;0;105;255mINFO    \u001b[0m Creating endpoint-config with name l14-clip-model-v1                   \u001b]8;id=164120;file://C:\\Users\\tochi\\anaconda3\\envs\\upwork-dev\\lib\\site-packages\\sagemaker\\session.py\u001b\\\u001b[2msession.py\u001b[0m\u001b]8;;\u001b\\\u001b[2m:\u001b[0m\u001b]8;id=668420;file://C:\\Users\\tochi\\anaconda3\\envs\\upwork-dev\\lib\\site-packages\\sagemaker\\session.py#5889\u001b\\\u001b[2m5889\u001b[0m\u001b]8;;\u001b\\\n"
      ]
     },
     "metadata": {},
     "output_type": "display_data"
    },
    {
     "data": {
      "text/html": [
       "<pre style=\"white-space:pre;overflow-x:auto;line-height:normal;font-family:Menlo,'DejaVu Sans Mono',consolas,'Courier New',monospace\"><span style=\"color: #7fbfbf; text-decoration-color: #7fbfbf\">                    </span><span style=\"color: #0069ff; text-decoration-color: #0069ff; font-weight: bold\">INFO    </span> Creating endpoint with name l14-clip-model-v1                          <a href=\"file://C:\\Users\\tochi\\anaconda3\\envs\\upwork-dev\\lib\\site-packages\\sagemaker\\session.py\" target=\"_blank\"><span style=\"color: #7f7f7f; text-decoration-color: #7f7f7f\">session.py</span></a><span style=\"color: #7f7f7f; text-decoration-color: #7f7f7f\">:</span><a href=\"file://C:\\Users\\tochi\\anaconda3\\envs\\upwork-dev\\lib\\site-packages\\sagemaker\\session.py#4711\" target=\"_blank\"><span style=\"color: #7f7f7f; text-decoration-color: #7f7f7f\">4711</span></a>\n",
       "</pre>\n"
      ],
      "text/plain": [
       "\u001b[2;36m                   \u001b[0m\u001b[2;36m \u001b[0m\u001b[1;38;2;0;105;255mINFO    \u001b[0m Creating endpoint with name l14-clip-model-v1                          \u001b]8;id=629904;file://C:\\Users\\tochi\\anaconda3\\envs\\upwork-dev\\lib\\site-packages\\sagemaker\\session.py\u001b\\\u001b[2msession.py\u001b[0m\u001b]8;;\u001b\\\u001b[2m:\u001b[0m\u001b]8;id=192550;file://C:\\Users\\tochi\\anaconda3\\envs\\upwork-dev\\lib\\site-packages\\sagemaker\\session.py#4711\u001b\\\u001b[2m4711\u001b[0m\u001b]8;;\u001b\\\n"
      ]
     },
     "metadata": {},
     "output_type": "display_data"
    },
    {
     "name": "stdout",
     "output_type": "stream",
     "text": [
      "-----!"
     ]
    }
   ],
   "source": [
    "predictor = huggingface_model.deploy(\n",
    "    serverless_inference_config=serverless_config,\n",
    "    endpoint_name=\"l14-clip-model-v1\"\n",
    ")"
   ]
  },
  {
   "cell_type": "markdown",
   "id": "8f9e3ec5-7833-4a79-926a-8e3b5d99ad93",
   "metadata": {},
   "source": [
    "### Test Deployed Endpoint"
   ]
  },
  {
   "cell_type": "code",
   "execution_count": 7,
   "id": "007d4c89-eed6-44cd-a66c-0f888a327907",
   "metadata": {},
   "outputs": [
    {
     "name": "stdout",
     "output_type": "stream",
     "text": [
      "C:\\Users\\tochi\\OneDrive\\Documents\\Upwork_Job\\clip-embedding-api\n"
     ]
    }
   ],
   "source": [
    "%cd  .."
   ]
  },
  {
   "cell_type": "code",
   "execution_count": 8,
   "id": "c0284ccb-50af-45ce-8f17-e67d5555914c",
   "metadata": {},
   "outputs": [
    {
     "name": "stdout",
     "output_type": "stream",
     "text": [
      "768\n",
      "[0.37861865758895874, -0.2048639953136444, 0.22263170778751373, -0.6245788931846619, -0.055607572197914124, -0.06229861080646515, -0.5927261710166931, 0.009563378989696503, -0.2391338348388672, -0.10730738937854767, 0.057211458683013916, 0.11848915368318558, -0.09497398883104324, 0.2676980495452881, 0.19893492758274078, 0.32281601428985596, -0.2885391414165497, -0.35819971561431885, -0.4916241765022278, 0.026667796075344086, 0.015242338180541992, 0.2755463421344757, 0.4547341763973236, 0.16531586647033691, -0.778900146484375, 0.08384381979703903, -0.4893878698348999, 0.1691056489944458, -0.253076434135437, 0.17060652375221252, -0.6237554550170898, 0.029045745730400085, 0.009264398366212845, -0.3716703951358795, 0.4490283131599426, -0.567813515663147, -0.19414737820625305, 0.3332390785217285, 0.639544665813446, 0.4740416407585144, 0.3455004096031189, -0.005832865834236145, -0.14018262922763824, 0.6296952962875366, -0.31594616174697876, 0.5030624270439148, 0.18537959456443787, 0.2746247947216034, 0.0786309614777565, 0.13974113762378693, 0.2728463411331177, -0.36491554975509644, 0.12361861765384674, -0.3608013987541199, -0.732143759727478, -0.39632320404052734, 0.28973186016082764, 0.08132946491241455, -0.3759705126285553, 0.0938824713230133, 0.06743025779724121, -0.42070645093917847, -0.17534606158733368, 0.21743234992027283, 0.393045574426651, 0.3869704604148865, -0.6493126153945923, -0.14248666167259216, 0.23104000091552734, -0.19960035383701324, -0.2691536843776703, -1.1621856689453125, 0.02265959233045578, -1.0288453102111816, 0.34191614389419556, -0.05885687470436096, -0.20438964664936066, 0.1340646743774414, 0.3530847132205963, -0.4437597990036011, 0.3533889651298523, 0.6148936152458191, -0.6421780586242676, 0.2602570950984955, 0.0519820898771286, -0.7902341485023499, 0.5356714725494385, 0.08273753523826599, -0.6312090158462524, 0.317926824092865, 0.17551647126674652, 0.12225019931793213, -0.23254545032978058, 0.6331736445426941, -0.28364917635917664, -0.06670601665973663, 0.2318497747182846, -0.45533913373947144, -0.436180055141449, 0.5098206996917725, 0.35360270738601685, 0.5041303038597107, 0.1567598581314087, 0.14223092794418335, 0.30367404222488403, -0.6405395269393921, -0.23657119274139404, -0.7646908760070801, 0.04303593933582306, 0.5171789526939392, -0.6849444508552551, 0.37898218631744385, -0.24530518054962158, -0.7034984827041626, 0.15715453028678894, -0.45988452434539795, -0.3370749056339264, -0.3011997938156128, -0.7340384721755981, 0.1646001935005188, -0.1029423177242279, 0.27710849046707153, -0.008776992559432983, 0.12461087107658386, -0.21525809168815613, -0.7252756357192993, -0.22389616072177887, -0.3667137622833252, -0.6326606273651123, 0.31405720114707947, -0.8550840020179749, 1.0314528942108154, -0.4292620122432709, 0.6086763739585876, 0.16878540813922882, -0.11983473598957062, 0.143402099609375, -0.21856454014778137, -0.33554643392562866, -0.7897878885269165, 0.3435273766517639, 0.6473281383514404, -1.0584561824798584, -0.12484830617904663, 0.03624039143323898, -0.014597505331039429, -0.5266109704971313, 0.3790653645992279, 0.1535068303346634, -0.47780680656433105, 0.7343434691429138, -0.6021027565002441, 0.21611586213111877, 0.10518912971019745, -0.18593230843544006, 0.253548800945282, -0.6415067911148071, 0.03846794366836548, 0.21357324719429016, 0.08709908276796341, -0.17168720066547394, -0.5257174372673035, -0.3753172755241394, 0.9849034547805786, 0.1222047209739685, -0.34001514315605164, 0.06286300718784332, 0.7950636148452759, -0.29955941438674927, 0.25763142108917236, 0.03817836940288544, -0.49642372131347656, 0.3275241255760193, -0.2546817362308502, -0.08277107775211334, 0.2835460901260376, 0.3159884214401245, 1.6356910467147827, 0.15608730912208557, -0.2655656933784485, 2.0513322353363037, -0.21912869811058044, -0.26734817028045654, 0.24048931896686554, 0.17106658220291138, 0.312235027551651, 0.6347159743309021, 0.2838548421859741, -0.010877043008804321, 0.12434425950050354, -0.346616268157959, 0.6076952815055847, 0.31044119596481323, 0.8162978291511536, 0.10595519840717316, -1.1461420059204102, -0.20862716436386108, 0.20999714732170105, 0.2656347155570984, -0.31834664940834045, 0.06790560483932495, -1.0468727350234985, 0.6028701066970825, 0.43404677510261536, 0.009395971894264221, 0.11737047880887985, 0.2052445411682129, 0.10712870955467224, -0.7268685102462769, -0.18768468499183655, 0.24786412715911865, -0.5154464244842529, 0.07689365744590759, -0.07088640332221985, 0.08860478550195694, 0.014419123530387878, 0.3788270354270935, 0.6838150024414062, 0.11711359024047852, 0.7443270087242126, -0.4467511475086212, 0.37771931290626526, 0.40685951709747314, -0.7872137427330017, 0.2550358176231384, -0.38333624601364136, -0.2731144428253174, 0.45474714040756226, 0.7166738510131836, -0.7998855113983154, 0.24115507304668427, 0.6540502309799194, -0.33582907915115356, 0.39529502391815186, 0.14126375317573547, 0.010464370250701904, 0.6368396878242493, 0.5152567625045776, -0.9033058881759644, 0.8579403758049011, -0.562907874584198, 0.038390956819057465, 0.07824872434139252, 0.375958114862442, -0.36163297295570374, 0.5342215895652771, -0.07181301712989807, 0.277889221906662, 0.5742031335830688, 0.11002880334854126, 0.06173445284366608, -0.40341171622276306, -1.3020410537719727, 0.11739309132099152, -0.3034099340438843, 0.5521568059921265, -0.006197452545166016, 0.6745729446411133, -0.8091182708740234, 0.4323709011077881, 0.05354563891887665, -1.090405821800232, -0.2724303603172302, 0.3817931115627289, -0.10403050482273102, -0.018093638122081757, 0.3598141074180603, -0.1395149528980255, 0.35356584191322327, -0.5353820323944092, 0.22286376357078552, -0.8785926103591919, 0.06818734854459763, 0.3533567786216736, -0.06973768770694733, -0.061552904546260834, -0.2269309163093567, 0.0544092059135437, 0.25014400482177734, -0.12258842587471008, 0.22043398022651672, -0.9215748906135559, -0.3702150583267212, 0.6694445610046387, 0.12403818964958191, 0.185558021068573, 0.40219810605049133, 0.4230552911758423, -0.8895722031593323, 0.1281050741672516, -0.009265244007110596, 0.3858274221420288, -0.18354904651641846, -0.20443032681941986, 0.19618521630764008, 0.6091077923774719, 0.21771357953548431, -0.706626296043396, 0.4272441267967224, 0.22964851558208466, 0.5971283912658691, -0.04607343673706055, -0.25920453667640686, -0.35887977480888367, 0.27751097083091736, 0.525597095489502, -0.436043918132782, -0.6281196475028992, -0.5124505758285522, -0.35191619396209717, 1.0263710021972656, -0.3550037741661072, -0.647087037563324, 0.09741014242172241, -0.09051230549812317, 0.049023061990737915, -0.5472777485847473, 0.22619383037090302, -0.04052434861660004, -0.3600757122039795, 0.007026046514511108, -0.22002872824668884, -0.673008143901825, 0.25879770517349243, -0.5321840047836304, -0.508554220199585, -0.5066155195236206, -0.3109825849533081, 0.22401300072669983, 0.6640363335609436, 1.295844554901123, -0.5126148462295532, -0.46338385343551636, 0.13287708163261414, 0.2621213495731354, -0.23566032946109772, 0.06596779823303223, -1.0000287294387817, -0.25093117356300354, 0.40540701150894165, -1.2257121801376343, -0.024365678429603577, 0.39113500714302063, -1.0220812559127808, -0.2831394076347351, 0.4457651376724243, 0.07245674729347229, -0.747349739074707, 0.41327518224716187, -0.6449074149131775, 0.7893887162208557, 0.3542080819606781, -0.6031004190444946, -0.861303448677063, 0.33973532915115356, 0.041121706366539, -0.11440308392047882, 0.37477946281433105, -0.12678584456443787, -0.39013671875, -0.007427319884300232, -0.054385263472795486, -1.1447110176086426, 1.0571635961532593, -0.3336859345436096, -0.17420420050621033, -0.32149064540863037, -0.19880862534046173, 0.5227063894271851, -0.017724566161632538, -0.5794637799263, -0.7499817609786987, -0.5171241164207458, 0.15536965429782867, -0.2244335412979126, -0.01082313060760498, -0.15304972231388092, -0.1308305710554123, 0.1307421326637268, 0.13914400339126587, 0.9212222099304199, 0.5176861882209778, 0.5542813539505005, -0.8998674750328064, 0.38448044657707214, -1.4078947305679321, 0.9121028780937195, 0.09076522290706635, 0.2109663188457489, -0.3252379596233368, -0.052341461181640625, -0.08441507816314697, 0.16827963292598724, 0.31617942452430725, 0.4456269145011902, -0.21869969367980957, -0.6260281205177307, -0.5699330568313599, -0.5320882201194763, -0.277335524559021, 0.4125324785709381, -0.27768391370773315, -0.5544054508209229, 0.44881775975227356, -0.9924513101577759, 0.035920947790145874, -0.209259033203125, -0.12008760869503021, -0.2081349492073059, -0.5107089281082153, -0.2897260785102844, 0.496893048286438, -0.3424559235572815, -6.865653038024902, 0.15720924735069275, -0.06308743357658386, 0.27086976170539856, 0.3354921042919159, 0.9173758029937744, -0.2770504355430603, 0.36315250396728516, 0.054090261459350586, -0.8119812607765198, 0.16468305885791779, 0.24444013833999634, 0.14730767905712128, 0.22778424620628357, -0.008333541452884674, 0.34597358107566833, 0.36374521255493164, 0.2394217550754547, -0.14313045144081116, -0.15947596728801727, 0.035539865493774414, -1.3614842891693115, 0.4120996594429016, 0.2686697244644165, -0.055987648665905, 0.3801916241645813, -0.18210163712501526, 0.4857628047466278, 0.3245692253112793, -0.4466330409049988, -0.423886775970459, 1.229033350944519, 0.43438252806663513, -1.4860894680023193, -0.5994353890419006, -0.22584611177444458, 0.2779020667076111, -1.0372411012649536, -0.08493971824645996, 0.8713468313217163, 0.04461471736431122, 0.1726435422897339, 0.274650901556015, 0.20132046937942505, -0.26659396290779114, 0.2835642397403717, -0.1184561550617218, 0.5229970216751099, 0.05056193470954895, -0.2995304465293884, -3.013491630554199, 0.6810421943664551, 0.25210726261138916, -0.35475003719329834, 0.3430492877960205, -0.19050203263759613, -0.8153533339500427, 0.46470239758491516, 0.457004189491272, 0.19590893387794495, -0.1281648874282837, -0.27742499113082886, -0.7942421436309814, 0.29053229093551636, 0.2201339304447174, 0.4600748121738434, 0.032685041427612305, -0.20793679356575012, -0.3812900185585022, 0.24446797370910645, -0.41784948110580444, -0.2195236086845398, -0.13576233386993408, 0.6216896176338196, 0.1150335967540741, 0.11160574853420258, -0.6772640347480774, 0.4432010054588318, -1.0230941772460938, -0.2561013102531433, -0.35454073548316956, -1.1770503520965576, 0.14194145798683167, 0.00974234938621521, 0.49469518661499023, 0.3326701819896698, -0.05986800789833069, 0.2834014296531677, -0.024946004152297974, 0.2930755913257599, 0.05806896090507507, 0.3248012065887451, -0.37737834453582764, 0.31869733333587646, 0.5446146726608276, -0.926876962184906, 0.7080885767936707, -0.2069910317659378, 0.42989468574523926, -0.8453377485275269, -0.7074429392814636, 0.14780806005001068, -0.16864466667175293, 0.9830950498580933, -0.3991912007331848, -0.3354542851448059, -0.22852663695812225, 0.06751246750354767, 0.014866381883621216, 0.25056684017181396, 0.24443677067756653, -0.19013118743896484, -0.7242976427078247, -0.29717329144477844, -0.07475417852401733, -1.1613430976867676, -0.22284160554409027, 0.07130198925733566, 0.633694052696228, 0.03469392657279968, 0.626609742641449, 0.30560311675071716, 0.13431571424007416, -0.49774229526519775, 0.6179642677307129, 0.5298833847045898, -0.7913976311683655, 0.8581691384315491, -0.2476981282234192, -0.10945110023021698, -0.3256340026855469, -0.04774606227874756, -0.21050240099430084, -0.016716718673706055, 0.3514123260974884, 0.580094039440155, -0.6069335341453552, 0.45856010913848877, -0.43594104051589966, -0.08550066500902176, 0.45500409603118896, 0.061096541583538055, 0.18659602105617523, -0.5642313361167908, 0.4372499883174896, 0.11100000143051147, -1.111525297164917, -1.2250767946243286, 0.4524473547935486, -0.6492050290107727, 0.18931502103805542, -0.22759631276130676, -0.7711377739906311, -0.3010261058807373, -0.4292464852333069, 0.5663608312606812, -0.17249375581741333, -0.050898343324661255, 0.4923432767391205, 0.2099691480398178, 0.09240111708641052, -0.047443076968193054, 0.33642032742500305, -0.3278011381626129, 0.3201620578765869, -0.19187389314174652, -0.23993052542209625, -0.7858480215072632, -0.33297470211982727, -0.9854885339736938, 0.22002831101417542, -0.10751211643218994, -0.1627482920885086, -0.005032405257225037, 0.516342282295227, -0.10011798143386841, 0.4697410464286804, 0.46690958738327026, -0.2641580104827881, -0.6272510290145874, -0.6547389626502991, -0.20653954148292542, 0.0553896427154541, -0.5032886862754822, -0.5568437576293945, 0.084148108959198, 0.1370680034160614, -0.1803586333990097, 0.3436139225959778, -0.3883357644081116, 0.1517914980649948, 0.1450464129447937, -0.007749803364276886, -0.3792317807674408, -0.38170814514160156, -0.2480676770210266, 0.3856714069843292, 0.24511443078517914, 1.1124070882797241, -1.0951027870178223, 0.2798684537410736, -0.1527707576751709, -1.3174784183502197, 1.1810967922210693, 0.5009945631027222, 0.1344437450170517, -0.7944480180740356, 0.16140592098236084, -0.2745942175388336, 0.057407766580581665, -0.07775191962718964, -1.0275661945343018, 0.6103584170341492, -0.045988649129867554, -0.15222153067588806, 0.4097631573677063, 1.0063031911849976, -0.3099495768547058, 0.18030868470668793, -0.3113209307193756, 0.09983096271753311, 0.465474396944046, 0.26425787806510925, 0.020122170448303223, -0.4432176947593689, 0.35538285970687866, -0.051637232303619385, 0.12340547144412994, -0.0040838271379470825, -0.33363693952560425, -0.3021087050437927, 7.340435981750488, -0.32069164514541626, 0.11834663152694702, 0.4846726953983307, -0.14820867776870728, 0.15490716695785522, -0.07647223770618439, -0.2613362967967987, -0.01699031889438629, 0.002914130687713623, -0.07793667167425156, -0.23895302414894104, -0.6520546078681946, 1.1224584579467773, 0.09175783395767212, -0.5836361646652222, 0.10641224682331085, 0.09558509290218353, -0.4059469699859619, 0.026495561003684998, 0.7324792742729187, -0.10029037296772003, 0.3322216868400574, -0.0800531655550003, 1.04585599899292, 0.6556806564331055, 0.38663849234580994, 0.5294342041015625, -0.05418172478675842, -0.44200941920280457, 0.3290407359600067, 0.23660339415073395, -0.6301915645599365, 0.5479884743690491, -1.158316731452942, 0.06339524686336517, 0.1157798022031784, 0.3481685519218445, -0.4338192343711853, 0.2062825858592987, 0.10895350575447083, -0.5813155770301819, 0.2024475336074829, 0.03461608290672302, -0.46152162551879883, 0.2947509288787842, 0.28453078866004944, 0.9218000173568726, 1.4800673723220825, 0.0012441501021385193, -0.6030141115188599, -0.01391822099685669, -0.6587399840354919, 0.04113228619098663, 0.5243040919303894, -0.3327026069164276, -0.4469422698020935, 0.37222427129745483, 0.012800291180610657, -1.5509064197540283, 0.6114815473556519, -0.17317873239517212, -0.20790427923202515, 0.3839658498764038, -0.5287683010101318, 0.11995713412761688, 0.27356746792793274, 1.2746012210845947, 0.1052248477935791, 0.6765926480293274, -0.1538189947605133, 0.09407932311296463, 0.4462970197200775, 0.7592371106147766, 0.3643798232078552, 0.24719280004501343, 0.5043725967407227, 0.43395546078681946, 0.16963614523410797, -1.72096848487854, 0.4515915513038635, 0.14560319483280182, -0.10489478707313538, 0.007285207509994507, -0.11018553376197815, 0.5243507623672485, 0.4242694079875946, -0.3201664090156555, -0.31389319896698, -0.13507673144340515, -0.272746741771698, -0.11810770630836487, 0.6430303454399109, -0.40542227029800415, -0.08241713047027588, -0.20724448561668396, 0.17633657157421112, -0.20529061555862427, -0.05963617563247681, -0.3343949317932129, -0.16142410039901733, 0.25659412145614624, 0.42107337713241577, -1.3466640710830688, 0.43025004863739014, -0.23144693672657013, -0.09810037910938263, -0.5170977115631104, 0.35114216804504395, 0.6599397659301758, -0.4200594127178192, -0.2938371002674103, 0.7392719984054565, -0.6321352124214172, -0.08719247579574585, -0.4052332043647766, -1.4042308330535889, -0.2642475366592407, -0.8641397953033447, -0.7995219826698303, -0.13182902336120605, 0.6662657260894775, -0.6492915749549866, 0.18140211701393127]\n"
     ]
    }
   ],
   "source": [
    "# Prepare base64 encoded image\n",
    "import base64\n",
    "\n",
    "# Load an image (make sure to use an RGB image like PNG or JPG)\n",
    "with open(\"aws_login.png\", \"rb\") as image_file:\n",
    "    encoded_image = base64.b64encode(image_file.read()).decode('utf-8')\n",
    "\n",
    "# Define payload with base64 image\n",
    "data = {\n",
    "  \"inputs\": {\n",
    "    \"image\": encoded_image\n",
    "  }\n",
    "}\n",
    "\n",
    "# Send prediction request to endpoint\n",
    "response = predictor.predict(data)\n",
    "print(len(response))\n",
    "print(response)"
   ]
  },
  {
   "cell_type": "markdown",
   "id": "2b5b907d-7f98-4bb9-9dab-e571dc0f3184",
   "metadata": {},
   "source": [
    "### Test APIgateway Endpoint"
   ]
  },
  {
   "cell_type": "code",
   "execution_count": 28,
   "id": "d6fb7436-886e-4a51-93ac-ffd87f6f911f",
   "metadata": {},
   "outputs": [
    {
     "name": "stdout",
     "output_type": "stream",
     "text": [
      "Status Code: 200\n",
      "Response JSON: [0.057369355573432444, 0.03234559691991972, 0.01718775496724093, -0.007223685215717846, -0.0068847049481593646, -0.005359488846361041, 0.02244141296141164, -0.007609178456263078, 0.008228933497285124, -0.007838969542421465, -0.0073155859210103915, -0.014132389248723206, -0.01715373912294604, 0.004976116019034493, -0.011585996811283016, -0.008073450643837443, -0.005389403763093546, -0.029169874308727462, 0.024143328904416787, 0.0018906523809315834, -0.005312460138062185, -0.019416226076963555, -0.0002319984635426025, 0.02561805814896866, -0.040294998853203305, -0.03222862936107049, 0.014901048115017983, -0.019048210365059635, 0.023373765610800488, -0.010524919804075286, -0.002171036760912926, 5.431176810953794e-05, -0.0033586997527301436, -0.010600677691614886, 0.0004906563591863127, 0.0212847381375611, -0.0314198444725896, -0.022136595242914246, 0.011143099659386018, -0.027710963467780594, -0.0057955434308510235, 0.017135676287660197, 0.006676161098165521, -0.01391641260931194, -0.01268015347463844, 0.03361386718582009, 0.021820289180045152, 0.0004745033325965438, -0.0070480584366926615, 0.007648229903847276, 0.048344380840862324, 0.0016170812652145214, 0.019544677442923684, 0.0176124062809994, -0.011072788753449195, 0.04095176433065504, 0.01752189700235535, 0.006788768349376049, 0.022400151111602686, 0.018609773340539173, 0.010310299805646303, -0.023315773367963654, -0.006111019931201968, -0.006919322735721755, -0.03794567477695755, 0.03749364865631021, 0.0031577399341807325, -0.016317748818646543, 0.03353052980409687, 0.020421403274778135, -0.006345952868173637, 0.010211585647036944, 0.010073658211874484, 0.004626278842567076, 0.033597520947540815, -0.014580590458507455, 0.007138929183781267, 0.0002529008678855626, -0.012705428285982267, 0.0031122913269590663, -0.024601251951697257, -0.009221503159728126, 0.009105299373115293, -0.004572670349883136, -0.0043410870457046774, -0.00899194271766093, -0.009820891949392962, 0.018921061192952063, 0.000780501117009684, 0.00503261172201406, 0.010799258473079425, 4.304518235993854e-05, 0.0133923393242577, -0.005211626322444275, -0.03480247525125359, -0.01592949238626783, 0.04313979180993484, -0.010394424402120114, 0.016716194426384938, -0.01806353704884684, 0.003429647387600681, -0.0035972190162672957, -0.01609700654296418, 0.01045748703391247, 0.006743435064199978, -0.0134973496884515, 0.003192041625906671, 0.007252929374060559, 0.00010822614779310629, -0.0005955570729105296, 0.004359435350316501, 0.026542334474115158, 0.0008052821231353236, 0.019812967187057544, -0.007824718762426418, 0.011381780751892072, -0.03362588487728633, -0.0064625997939256104, 0.002015689080026886, 0.01980835884249454, -0.011142811543324563, -0.015828216187720918, 0.001166423884911626, 0.020320612563137923, 0.001064504907749917, -0.0019861239104818425, -0.02253453872712297, 0.007301978675840274, -0.009757345343114173, -0.005645143065721024, 0.019101432434364563, 0.019580606498860252, -0.0001624233500671839, -0.023543462189946598, -0.009342059691878315, -0.02960265336901747, -0.0388126424732293, -0.010695923114334765, 0.02953738638468144, -0.02873999002083443, 0.003824634846391486, 0.011101148145933899, -0.02359119568609132, 0.00873593004506963, 0.005594219119016517, 0.009433249559643912, 0.0015230480473411303, 0.025413693872391247, 0.02894206751796345, -0.020283966619993328, 0.003532242038518058, 0.019416398492874347, -0.011202294276337585, 0.020157776322337003, 0.008305282741150333, -0.00939142206465394, -0.008141523167774513, 0.022109265808633483, 0.02852686580605258, -0.003927114175263268, 0.006487523723766775, 0.019005791513744052, -0.004058746161051422, -0.0004567615085130317, 0.011602268184758919, -0.012726868355731249, 0.013537560406172731, 0.03466857765990082, 0.007197821316678813, 0.026506701852551526, -0.0075122202175873076, -0.006541486879004054, -0.0043592247457938885, -0.014073466867420259, 0.008325602863689304, 0.008072007794899763, 0.026538326560399384, -0.01762117680614573, 0.014666662296079023, -0.01717606698339357, 0.10767996746096395, -0.001042113903756108, 0.008050495885187952, 0.0031416458919814975, 0.0036747426544722415, -0.01258945287483022, -0.0023664416488627825, -0.028379410879398607, -0.016038661906204416, 0.0031352215087791673, 0.009294939482153118, 0.00751841509101365, 0.007671148364410283, 0.011517431994548025, -0.014109683283208148, -0.11769923147782417, -0.007824761866404116, 0.023643729604173352, 0.022885816483897658, -0.009128415204523548, -0.010787189359324004, 0.07056660780704954, -0.0387123266615539, 0.024482581407623886, 0.0028941008823774378, -0.01098707384706137, -0.01821539160606654, -0.007800369552287894, -0.00037132224071943396, -0.012655400448287796, -0.02415953902487175, -0.01721007980284792, 0.02269834896657784, 0.0015607178990085886, 0.007229388552556405, 0.0013303672173502635, 0.00908662552004033, 0.012285194751832765, 0.018802103289027376, -0.005631971775693764, -0.00958003297169796, -0.03190161385026879, -0.010373875147910223, -0.019336132836719703, -0.010872109488859888, 0.0032103831246272792, -0.014893310572916135, -0.0013958833729257928, 0.030525864950293812, 0.01328467919975068, 0.01199395705494063, 0.007116794156918173, -0.01715315684114205, 0.010828830070410618, 0.015928229515342295, -0.007878610077700868, -0.017882200883302016, -0.012920973885616553, 0.003747224639706798, 0.018846650115662993, 0.02463403971073282, -0.008076228959873621, 0.013254984340167475, -0.008516617006542517, -0.008646958141630138, -0.022941881903310382, 0.004410474997171671, 0.007185034559505226, -0.008562984787183339, -0.004645743691443304, 0.011129695078532094, -0.002135191833353881, 0.007691973635319468, -0.018616142142296576, -0.009230260829302157, 0.0014098057686696933, -0.002680990279378018, 0.021249494208006887, -0.0016007108282109254, -0.011369940013597434, -0.009402981492778338, 0.01570699116581134, 0.006399184768210322, 0.027694084857566244, 0.013470089825503162, -0.02537556878222249, -0.004185165968483734, 0.01575157277811317, 0.015144106151785715, 0.016160519119786894, -0.015966673726188048, 0.01408622413239858, 0.016451688757766876, 0.003503793791342486, 0.02655045919580615, -1.6515629349526025e-06, -0.026099773079518124, -0.006345198926668991, -0.029549585566580088, 0.014371380387384631, -0.014074350120858, -0.042881137695341805, 0.0002531897401571523, -0.0015903333565276128, -0.008939105559314741, -0.0019004301779778, -0.03514912500200176, -0.0047614650159899735, -0.15323853066110713, 0.025377105401216914, 0.02356199387551617, -0.017064066212711355, -0.003004016025507182, -0.04723492982752548, -0.006789195608102353, -0.014046631994567819, -0.02296345355362286, 0.010033176770924905, -0.004771703345008436, 0.001242444177368089, 0.0027753237126750246, 0.0016745940708257326, 0.0163232903265162, -0.015131686156527628, -0.012864982574797065, 0.002402341212604085, 0.007542556343365036, 0.031897893296404335, 0.004932470972984925, 0.003699776990993123, -0.0032457212023433058, -0.02353073971063449, -0.012407774902304353, -0.02048480846976167, -0.0002296693363266437, -0.008586655676830722, -0.649430795712397, -0.007532873828795836, -0.019660264162066312, -0.008571752287489126, 0.01361234353884825, 0.0015232938156350222, 0.005644791049903158, -0.0075968280323374165, 0.021848471619358253, 0.011154203849009116, -0.0057064153700186445, 0.018379838574455125, 0.010925717981543827, -0.022295116548684567, 0.019817070383250333, -0.01555720711194141, -0.006929983029995576, 0.019873695398162996, -0.013575426872475304, 0.00891927772957369, -0.012314014676289715, 0.01844793378469625, -0.009250738243549219, -0.010155018104094547, 0.019256331493587985, 0.012253904288864602, 0.008062459885734603, 0.004775752850281637, -0.011122299343411291, 0.005195149259811636, -0.01070971109372716, 0.01355941034181491, 0.04245581486698341, -0.010176257021947605, 0.005240220140070844, 0.023374630715194987, 0.0026363791748809213, -0.010860733819798307, 0.01855502977644252, 0.011085030283115409, 0.022693621140813493, -0.018436188328878625, -0.005084721406210328, -0.011181796444416877, -0.01226077067689087, -0.02315244861541549, -0.008958028961734272, -0.05312389508035571, -0.01747668168596035, -0.003193886778636197, 0.013765288551082697, -0.016879726380510107, -0.0173891518752484, -0.013218727089032293, -0.007371763259523102, -3.647749733701576e-05, -0.0032566257524907494, -0.0004140681529184259, -0.0004564975911758987, 0.017888026726182452, -0.011445660846840417, -0.0024257028123062328, -0.023551387272161935, 0.011019899416603689, -0.029281980948828584, 0.03008408396455615, 0.0309835747463162, -0.008958035011415353, 0.022711971335950657, -0.0088231475409958, 0.014916296336181162, -0.014266835848634023, 0.008231035761460566, -0.008348260431755718, 0.011622223814012796, -0.024147979596747353, 0.00807406393025697, -0.015988242351659986, 0.010051902802499187, -0.012995035593823232, 0.0008352046019691787, -0.011316229432545262, -0.01160601066871729, 0.009876202671090902, 0.021666474526155395, 0.02496492852984625, -0.010211949384111903, -0.0075004036780169925, -0.007065706112614359, 0.004602542162637943, 0.006262965611742944, -0.01362187027412963, 0.023979018053852514, 0.007241530262484792, 0.011272016850789338, -0.0025264322709255055, -0.021820311866349203, -0.08843036623757793, 0.0043686856907935185, -0.02179343313330893, 0.02716223924474394, 0.012531403160023121, 0.004025708096461155, 0.03818296746765565, -0.006296382537610873, -0.009533076859572068, 0.0038707689581005764, -0.01275857473427369, -0.0063763169737263625, 0.004574113198820815, 0.00568105435071942, -0.0006739420344592989, 0.007260123201075305, 0.00952185545737804, -0.005181553357793545, -0.022672595474218522, 3.5365112228354916e-05, -0.01703538013744831, 0.0013051423158753487, 0.007217097113021277, -0.0351496845975017, 0.048112369521747425, -0.00971820012547323, -0.014533083825403244, 0.5286512844169458, -0.01697817737799247, -0.032484609516625976, 0.019752402317341263, 0.021233220565900577, -0.001155688725834434, -0.0176311693668703, 0.0065746633300490355, -0.016362651064045632, 0.01224696530466537, -0.019214346706889922, -0.0122051831822835, 0.009521154450582846, -0.00613746308720445, 0.0024754659764534355, 0.00033493681196636077, 0.0026622003480473245, -0.02369696982252152, -0.01487416181987636, 0.011019926640168551, 0.017877752855287643, -0.01706586296799224, -0.013350215394894787, -0.008946302411170028, 0.011967755886181363, -0.03113774481896943, 0.004216605026743435, -7.274439015141966e-05, 0.008967505787146739, -0.02183156124831823, 0.008723057079940647, -0.007203854361136254, -0.025842262354649287, 0.010210650215099884, -0.029553666076468827, -0.020814880581929245, 0.008507259662331389, 0.024055653901358907, -0.0024365268260742932, 0.04296265714790037, 0.002565708312919813, -0.016841133952477886, 0.006837864536184136, -0.012481910719104268, -0.04181896191480785, 0.011050575836942191, 0.03208115931021381, 0.003819404140887334, 0.0196889835105753, 0.02252792945054262, -0.011404820206076688, -0.01653814928734786, 0.012985743283683718, 0.002577004579917213, 0.014302659035151686, -0.027371546110764054, 0.020661610399336724, -0.011737698614055438, 0.005703969030231753, -0.015409410378306393, 0.012945453920108442, 0.012114766161275926, 0.016563621469536934, -0.021184942598458614, 0.006847621915556706, 0.016432196685325785, -0.026075707448180243, 0.0020712361173920303, 0.032026470193246885, -0.02675369218202153, -0.017589701827904612, 0.014312217531258737, 0.05357453582403563, -0.028763480932469675, -0.003048847187153578, -0.013053832444243761, 0.02945119052864772, 0.009402848399794569, -0.015003110772105352, 0.02096585793539229, 0.027812942941753106, -0.013815829099248734, 0.013920906009934418, 0.01588682247318741, 0.002757386786376669, -0.01481565837898823, 0.0038340579808843634, -0.02312656807975348, -0.012920524696796332, 0.020566371782508062, 0.013796683371049497, 0.002010892817245321, 0.02819332571420566, 0.0027419377914226334, 0.017935795007993388, 0.006225524891746407, 0.0054467543616307885, 0.04488090212423971, -0.008556203094692195, -0.003695891583319228, -0.006191493923248817, -0.02158158993849586, 0.014114184245931975, -0.025331145974049018, -0.008410107833861044, 0.01016511729044816, -0.00016791343564765822, 0.016218481114218326, 0.01960848040443825, 0.011341442990868152, 0.013091148389568015, 0.019244285066136613, 0.016271659323335422, -0.00039219855581273483, 0.005457330338474552, -0.007160801049517363, 0.004527977574691454, -0.01052049975583591, -0.0008376392204989772, -0.010477451737687965, 0.006287366244170653, 0.005954915473023274, 0.0006646190978093157, -0.00825718248309011, 0.001664157614751886, 0.015542893566505154, -0.0042294526588328935, 0.0031892844837542733, 0.018104677905034183, -0.011072773629246494, -0.004828071248475179, -0.010129330402016981, 0.016819954019015364, 0.018765861162094895, 0.0037615850701714273, 0.006279412425970181, 0.02903186595908055, 0.0005686125495885076, -0.023632198912034087, 0.020571834644523675, 0.0008799729981743659, 0.004064251370834598, 0.008184058475450893, 0.0015309379657851908, 0.028187239735038765, -0.0006295394549069428, -0.0097602023050044, 0.0003816014050851898, -0.003397633987743408, 0.014840105140234178, -0.02308971191019134, -0.0014679203284958717, -0.007535540981942162, 0.01375036247543705, -0.013341989341045697, -0.004094404871864711, 0.01317365091530214, -0.008158438076075346, -0.019684741171717663, 0.044937995989436104, -0.010247588055356614, -0.04203842922020251, -0.004834834791923081, 0.0015788109826998323, -0.004181463941767589, -0.03046894652584875, 0.011073827786174755, 0.020110991113701633, 0.040608411656095696, 0.05620134969691829, 0.008632757271504005, -0.011767168123018397, -0.01138064719289963, -0.021002227105627456, 0.022190738376163668, -0.03172391051821275, 0.005401848713286089, 5.9763286973124616e-05, -0.0230335512083016, -0.006801432600507757, -0.00689630445542092, 0.021619693854780835, 0.002516626494104292, -0.015196903230994744, -0.022002519185969606, -0.007807976270036377, -0.018709140864705216, -0.015283749427744605, -0.006758342234592249, 0.009036589364034373, -0.062346367701476973, 0.0013328003234597918, 0.015396988870628035, 0.014542728529465693, 0.008011645589499678, 0.047153274257142615, 0.013803634454610893, -0.028874238493689867, -0.015564362372239267, -0.006050256556325237, 0.006134673806121313, 0.0030315435868433285, 0.02675374965399179, -0.021423846016744373, 0.08894112871183499, -0.001954097655052274, 0.01468260018088537, 0.018421781013385624, -0.012177354649313604, -0.022880879944136043, -0.012149170697580232, 0.007175121400844834, 0.012951671479838835, -0.00858325424364326, 0.010631934881337108, 0.004131194116829902, -0.029955364900208215, 0.008657371155189799, 6.394664144022983e-05, -0.019824732304338677, -0.00113832311629311, -0.016266576078807604, 0.0011780279294339921, -0.00024700242883216045, -0.005519121402924817, 0.010937512591020227, -0.0008142658995397361, -0.002945246398651515, 0.01139135664083223, 0.033536515963525936, -0.005444413513157736, 0.005518883574837344, -0.0032495234269023453, -0.020649164692934045, 0.00014705413528239605, -0.005407768326223273, 0.030902236784190053, 0.008720066268856517, 0.017196281992723772, -0.0012009085794902471, -0.01281812174514819, 0.010805445784404418, -0.009376122421201578, -0.023368063786382197, 0.010825647181952185, 0.03196061034016497, 0.019818293931248846, -0.01468612714495525, -0.00591293408927082, 0.011895585459522448, 0.010818118353847613, 0.009922764041526297, 0.003837486637636687, -0.014135987296545782, 0.011742364430588705, -0.0187887062702748, -0.034811652617452574, 0.023649749036848362, -0.016947207548121568, 0.008145728452335535, -0.0025208930316862528, -0.010564432539841866, 0.0026694520251374014, -0.010086986415504769, -0.021278848773029317, -0.017935415390505593, 0.01159327004036194, 0.01941480893917047, 0.007383188838453595, 0.007326428461926761, 0.006005734684624077, 0.02974322375860193, -0.007157037391675212, -0.026657127172615983, -0.0008261724281161229, -0.014288693346377553, 0.0014671111836513666, -0.020898664127632145, -0.03184693683266402, 0.026080610714695918, -0.01921008016930796, 0.02143995329262097, 0.0019464319529132563, -0.050694491375648534, -0.020489129454473353, 0.02207665954003033, -0.005711055853512388, 0.010911144299821113, 0.026144961172348265, 0.001105862796246022, -0.003859975948948053, -0.00046675104439706274, 0.016049949098680193, -0.00308025713132308, -0.013583131141331209, -0.013644983080697346, 0.01662119930921976, 0.002641683232768173, 0.016050126051851795, 0.019843392545631208, -0.008417539110858198, 0.00959478890006322, 0.0040033431817170055, 0.009815271039459124, -0.0059292765464994185, 0.039607742983106285, -0.0037756479319479134, -0.02175983471700859, 0.002002621390788127, -0.013873074206472137, 0.007107374047265836, 0.004938565270463305, 0.040776747056998706, 0.004661231631219295, 0.00570862425982313, -0.045529240395946434, 0.036371366269401816, 0.00039975158264162977, 0.006266414686168915, -0.0028942388907270845, 0.01145692157196147, 0.0007125783226793531, 0.040562851507879104, -0.02645322569664122, 0.033666166678760254, -0.00958778866284305, -0.020102060272006676, -0.03290025285525572]\n"
     ]
    }
   ],
   "source": [
    "import requests\n",
    "import json\n",
    "\n",
    "endpoint_url = \"https://kbke5izmza.execute-api.us-east-1.amazonaws.com/prod/invokel14\"\n",
    "\n",
    "# Choose either text or base64-encoded image payload\n",
    "payload = {\n",
    "    \"text\": \"This is a test input for embedding generation.\",\n",
    "    \"model\": \"L-14 model\"\n",
    "}\n",
    "\n",
    "headers = {\n",
    "    \"Content-Type\": \"application/json\"\n",
    "}\n",
    "\n",
    "response = requests.post(endpoint_url, headers=headers, data=json.dumps(payload))\n",
    "\n",
    "# Print response\n",
    "print(\"Status Code:\", response.status_code)\n",
    "print(\"Response JSON:\", response.json())"
   ]
  },
  {
   "cell_type": "code",
   "execution_count": null,
   "id": "da3fc4b4-b7e4-4752-aa25-ca07b688d26a",
   "metadata": {},
   "outputs": [],
   "source": []
  }
 ],
 "metadata": {
  "kernelspec": {
   "display_name": "upwork-dev",
   "language": "python",
   "name": "upwork-dev"
  },
  "language_info": {
   "codemirror_mode": {
    "name": "ipython",
    "version": 3
   },
   "file_extension": ".py",
   "mimetype": "text/x-python",
   "name": "python",
   "nbconvert_exporter": "python",
   "pygments_lexer": "ipython3",
   "version": "3.10.14"
  }
 },
 "nbformat": 4,
 "nbformat_minor": 5
}
